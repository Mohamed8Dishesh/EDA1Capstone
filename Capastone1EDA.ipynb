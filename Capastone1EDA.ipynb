{
 "cells": [
  {
   "cell_type": "markdown",
   "id": "4a950765",
   "metadata": {},
   "source": [
    "# import libraries\n",
    "- Pandas ==> We will use it for efficient data manipulation and analysis.\n",
    "-  Matplotlib ==> is instrumental in our project for crafting detailed and customizable visualizations.\n",
    "-  seaborn ==> enhances our project by providing a high-level interface for creating attractive statistical graphics.\n"
   ]
  },
  {
   "cell_type": "code",
   "execution_count": 2,
   "id": "66d78961",
   "metadata": {},
   "outputs": [],
   "source": [
    "import pandas as pd\n",
    "import matplotlib.pyplot as plt\n",
    "import seaborn as sns"
   ]
  },
  {
   "cell_type": "markdown",
   "id": "ddcb1a23",
   "metadata": {},
   "source": [
    "# Read Data Using Pandas"
   ]
  },
  {
   "cell_type": "code",
   "execution_count": 3,
   "id": "dad827c0",
   "metadata": {},
   "outputs": [],
   "source": [
    "df = pd.read_csv(r'D:\\dataset\\listings1.csv')"
   ]
  },
  {
   "cell_type": "code",
   "execution_count": 4,
   "id": "77aec996",
   "metadata": {},
   "outputs": [
    {
     "data": {
      "text/html": [
       "<div>\n",
       "<style scoped>\n",
       "    .dataframe tbody tr th:only-of-type {\n",
       "        vertical-align: middle;\n",
       "    }\n",
       "\n",
       "    .dataframe tbody tr th {\n",
       "        vertical-align: top;\n",
       "    }\n",
       "\n",
       "    .dataframe thead th {\n",
       "        text-align: right;\n",
       "    }\n",
       "</style>\n",
       "<table border=\"1\" class=\"dataframe\">\n",
       "  <thead>\n",
       "    <tr style=\"text-align: right;\">\n",
       "      <th></th>\n",
       "      <th>id</th>\n",
       "      <th>name</th>\n",
       "      <th>host_id</th>\n",
       "      <th>host_name</th>\n",
       "      <th>neighbourhood_group</th>\n",
       "      <th>neighbourhood</th>\n",
       "      <th>latitude</th>\n",
       "      <th>longitude</th>\n",
       "      <th>room_type</th>\n",
       "      <th>price</th>\n",
       "      <th>minimum_nights</th>\n",
       "      <th>number_of_reviews</th>\n",
       "      <th>last_review</th>\n",
       "      <th>reviews_per_month</th>\n",
       "      <th>calculated_host_listings_count</th>\n",
       "      <th>availability_365</th>\n",
       "      <th>number_of_reviews_ltm</th>\n",
       "      <th>license</th>\n",
       "    </tr>\n",
       "  </thead>\n",
       "  <tbody>\n",
       "    <tr>\n",
       "      <th>0</th>\n",
       "      <td>18674</td>\n",
       "      <td>Rental unit in Barcelona · ★4.30 · 3 bedrooms ...</td>\n",
       "      <td>71615</td>\n",
       "      <td>Mireia And Maria</td>\n",
       "      <td>Eixample</td>\n",
       "      <td>la Sagrada Família</td>\n",
       "      <td>41.405560</td>\n",
       "      <td>2.17262</td>\n",
       "      <td>Entire home/apt</td>\n",
       "      <td>202</td>\n",
       "      <td>1</td>\n",
       "      <td>38</td>\n",
       "      <td>2023-06-26</td>\n",
       "      <td>0.30</td>\n",
       "      <td>30</td>\n",
       "      <td>34</td>\n",
       "      <td>8</td>\n",
       "      <td>HUTB-002062</td>\n",
       "    </tr>\n",
       "    <tr>\n",
       "      <th>1</th>\n",
       "      <td>23197</td>\n",
       "      <td>Rental unit in Sant Adria de Besos · ★4.77 · 3...</td>\n",
       "      <td>90417</td>\n",
       "      <td>Etain (Marnie)</td>\n",
       "      <td>Sant Martí</td>\n",
       "      <td>el Besòs i el Maresme</td>\n",
       "      <td>41.412432</td>\n",
       "      <td>2.21975</td>\n",
       "      <td>Entire home/apt</td>\n",
       "      <td>255</td>\n",
       "      <td>3</td>\n",
       "      <td>73</td>\n",
       "      <td>2023-08-15</td>\n",
       "      <td>0.48</td>\n",
       "      <td>2</td>\n",
       "      <td>150</td>\n",
       "      <td>11</td>\n",
       "      <td>HUTB005057</td>\n",
       "    </tr>\n",
       "    <tr>\n",
       "      <th>2</th>\n",
       "      <td>32711</td>\n",
       "      <td>Rental unit in Barcelona · ★4.46 · 2 bedrooms ...</td>\n",
       "      <td>135703</td>\n",
       "      <td>Nick</td>\n",
       "      <td>Gràcia</td>\n",
       "      <td>el Camp d'en Grassot i Gràcia Nova</td>\n",
       "      <td>41.405660</td>\n",
       "      <td>2.17015</td>\n",
       "      <td>Entire home/apt</td>\n",
       "      <td>171</td>\n",
       "      <td>21</td>\n",
       "      <td>95</td>\n",
       "      <td>2023-08-18</td>\n",
       "      <td>0.64</td>\n",
       "      <td>3</td>\n",
       "      <td>310</td>\n",
       "      <td>21</td>\n",
       "      <td>HUTB-001722</td>\n",
       "    </tr>\n",
       "    <tr>\n",
       "      <th>3</th>\n",
       "      <td>171646</td>\n",
       "      <td>Rental unit in Barcelona · ★4.81 · 2 bedrooms ...</td>\n",
       "      <td>400154</td>\n",
       "      <td>Mireia</td>\n",
       "      <td>Sant Martí</td>\n",
       "      <td>el Clot</td>\n",
       "      <td>41.406710</td>\n",
       "      <td>2.18592</td>\n",
       "      <td>Entire home/apt</td>\n",
       "      <td>152</td>\n",
       "      <td>3</td>\n",
       "      <td>81</td>\n",
       "      <td>2023-08-27</td>\n",
       "      <td>0.65</td>\n",
       "      <td>9</td>\n",
       "      <td>58</td>\n",
       "      <td>22</td>\n",
       "      <td>HUTB-004663</td>\n",
       "    </tr>\n",
       "    <tr>\n",
       "      <th>4</th>\n",
       "      <td>171816</td>\n",
       "      <td>Rental unit in Barcelona · ★4.71 · 2 bedrooms ...</td>\n",
       "      <td>400154</td>\n",
       "      <td>Mireia</td>\n",
       "      <td>Sant Martí</td>\n",
       "      <td>el Clot</td>\n",
       "      <td>41.406810</td>\n",
       "      <td>2.18553</td>\n",
       "      <td>Entire home/apt</td>\n",
       "      <td>150</td>\n",
       "      <td>3</td>\n",
       "      <td>49</td>\n",
       "      <td>2023-08-27</td>\n",
       "      <td>0.39</td>\n",
       "      <td>9</td>\n",
       "      <td>67</td>\n",
       "      <td>27</td>\n",
       "      <td>HUTB-004664</td>\n",
       "    </tr>\n",
       "  </tbody>\n",
       "</table>\n",
       "</div>"
      ],
      "text/plain": [
       "       id                                               name  host_id  \\\n",
       "0   18674  Rental unit in Barcelona · ★4.30 · 3 bedrooms ...    71615   \n",
       "1   23197  Rental unit in Sant Adria de Besos · ★4.77 · 3...    90417   \n",
       "2   32711  Rental unit in Barcelona · ★4.46 · 2 bedrooms ...   135703   \n",
       "3  171646  Rental unit in Barcelona · ★4.81 · 2 bedrooms ...   400154   \n",
       "4  171816  Rental unit in Barcelona · ★4.71 · 2 bedrooms ...   400154   \n",
       "\n",
       "          host_name neighbourhood_group                       neighbourhood  \\\n",
       "0  Mireia And Maria            Eixample                  la Sagrada Família   \n",
       "1    Etain (Marnie)          Sant Martí               el Besòs i el Maresme   \n",
       "2              Nick              Gràcia  el Camp d'en Grassot i Gràcia Nova   \n",
       "3            Mireia          Sant Martí                             el Clot   \n",
       "4            Mireia          Sant Martí                             el Clot   \n",
       "\n",
       "    latitude  longitude        room_type  price  minimum_nights  \\\n",
       "0  41.405560    2.17262  Entire home/apt    202               1   \n",
       "1  41.412432    2.21975  Entire home/apt    255               3   \n",
       "2  41.405660    2.17015  Entire home/apt    171              21   \n",
       "3  41.406710    2.18592  Entire home/apt    152               3   \n",
       "4  41.406810    2.18553  Entire home/apt    150               3   \n",
       "\n",
       "   number_of_reviews last_review  reviews_per_month  \\\n",
       "0                 38  2023-06-26               0.30   \n",
       "1                 73  2023-08-15               0.48   \n",
       "2                 95  2023-08-18               0.64   \n",
       "3                 81  2023-08-27               0.65   \n",
       "4                 49  2023-08-27               0.39   \n",
       "\n",
       "   calculated_host_listings_count  availability_365  number_of_reviews_ltm  \\\n",
       "0                              30                34                      8   \n",
       "1                               2               150                     11   \n",
       "2                               3               310                     21   \n",
       "3                               9                58                     22   \n",
       "4                               9                67                     27   \n",
       "\n",
       "       license  \n",
       "0  HUTB-002062  \n",
       "1   HUTB005057  \n",
       "2  HUTB-001722  \n",
       "3  HUTB-004663  \n",
       "4  HUTB-004664  "
      ]
     },
     "execution_count": 4,
     "metadata": {},
     "output_type": "execute_result"
    }
   ],
   "source": [
    "df.head() # Read Only First 5 Rows"
   ]
  },
  {
   "cell_type": "code",
   "execution_count": 5,
   "id": "aaf96253",
   "metadata": {
    "scrolled": true
   },
   "outputs": [
    {
     "data": {
      "text/html": [
       "<div>\n",
       "<style scoped>\n",
       "    .dataframe tbody tr th:only-of-type {\n",
       "        vertical-align: middle;\n",
       "    }\n",
       "\n",
       "    .dataframe tbody tr th {\n",
       "        vertical-align: top;\n",
       "    }\n",
       "\n",
       "    .dataframe thead th {\n",
       "        text-align: right;\n",
       "    }\n",
       "</style>\n",
       "<table border=\"1\" class=\"dataframe\">\n",
       "  <thead>\n",
       "    <tr style=\"text-align: right;\">\n",
       "      <th></th>\n",
       "      <th>id</th>\n",
       "      <th>name</th>\n",
       "      <th>host_id</th>\n",
       "      <th>host_name</th>\n",
       "      <th>neighbourhood_group</th>\n",
       "      <th>neighbourhood</th>\n",
       "      <th>latitude</th>\n",
       "      <th>longitude</th>\n",
       "      <th>room_type</th>\n",
       "      <th>price</th>\n",
       "      <th>minimum_nights</th>\n",
       "      <th>number_of_reviews</th>\n",
       "      <th>last_review</th>\n",
       "      <th>reviews_per_month</th>\n",
       "      <th>calculated_host_listings_count</th>\n",
       "      <th>availability_365</th>\n",
       "      <th>number_of_reviews_ltm</th>\n",
       "      <th>license</th>\n",
       "    </tr>\n",
       "  </thead>\n",
       "  <tbody>\n",
       "    <tr>\n",
       "      <th>18081</th>\n",
       "      <td>972414398498867957</td>\n",
       "      <td>Rental unit in Barcelona · ★New · 4 bedrooms ·...</td>\n",
       "      <td>150574145</td>\n",
       "      <td>Nuria</td>\n",
       "      <td>Nou Barris</td>\n",
       "      <td>Vilapicina i la Torre Llobeta</td>\n",
       "      <td>41.429103</td>\n",
       "      <td>2.170701</td>\n",
       "      <td>Entire home/apt</td>\n",
       "      <td>350</td>\n",
       "      <td>5</td>\n",
       "      <td>0</td>\n",
       "      <td>NaN</td>\n",
       "      <td>NaN</td>\n",
       "      <td>6</td>\n",
       "      <td>180</td>\n",
       "      <td>0</td>\n",
       "      <td>HUTB-012380</td>\n",
       "    </tr>\n",
       "    <tr>\n",
       "      <th>18082</th>\n",
       "      <td>972517151783308573</td>\n",
       "      <td>Rental unit in Barcelona · ★New · 1 bedroom · ...</td>\n",
       "      <td>490562593</td>\n",
       "      <td>Angela</td>\n",
       "      <td>Gràcia</td>\n",
       "      <td>la Vila de Gràcia</td>\n",
       "      <td>41.401627</td>\n",
       "      <td>2.154242</td>\n",
       "      <td>Private room</td>\n",
       "      <td>208</td>\n",
       "      <td>1</td>\n",
       "      <td>0</td>\n",
       "      <td>NaN</td>\n",
       "      <td>NaN</td>\n",
       "      <td>7</td>\n",
       "      <td>270</td>\n",
       "      <td>0</td>\n",
       "      <td>Exempt</td>\n",
       "    </tr>\n",
       "    <tr>\n",
       "      <th>18083</th>\n",
       "      <td>972525401820905576</td>\n",
       "      <td>Rental unit in Barcelona · ★New · 1 bedroom · ...</td>\n",
       "      <td>490562593</td>\n",
       "      <td>Angela</td>\n",
       "      <td>Gràcia</td>\n",
       "      <td>la Vila de Gràcia</td>\n",
       "      <td>41.401446</td>\n",
       "      <td>2.155472</td>\n",
       "      <td>Private room</td>\n",
       "      <td>208</td>\n",
       "      <td>1</td>\n",
       "      <td>0</td>\n",
       "      <td>NaN</td>\n",
       "      <td>NaN</td>\n",
       "      <td>7</td>\n",
       "      <td>270</td>\n",
       "      <td>0</td>\n",
       "      <td>Exempt</td>\n",
       "    </tr>\n",
       "    <tr>\n",
       "      <th>18084</th>\n",
       "      <td>972527438522389761</td>\n",
       "      <td>Rental unit in Barcelona · ★New · 1 bedroom · ...</td>\n",
       "      <td>490562593</td>\n",
       "      <td>Angela</td>\n",
       "      <td>Gràcia</td>\n",
       "      <td>la Vila de Gràcia</td>\n",
       "      <td>41.399756</td>\n",
       "      <td>2.153623</td>\n",
       "      <td>Private room</td>\n",
       "      <td>280</td>\n",
       "      <td>1</td>\n",
       "      <td>0</td>\n",
       "      <td>NaN</td>\n",
       "      <td>NaN</td>\n",
       "      <td>7</td>\n",
       "      <td>270</td>\n",
       "      <td>0</td>\n",
       "      <td>Exempt</td>\n",
       "    </tr>\n",
       "    <tr>\n",
       "      <th>18085</th>\n",
       "      <td>972529324055119972</td>\n",
       "      <td>Rental unit in Barcelona · ★New · 1 bedroom · ...</td>\n",
       "      <td>490562593</td>\n",
       "      <td>Angela</td>\n",
       "      <td>Gràcia</td>\n",
       "      <td>la Vila de Gràcia</td>\n",
       "      <td>41.400360</td>\n",
       "      <td>2.155542</td>\n",
       "      <td>Private room</td>\n",
       "      <td>280</td>\n",
       "      <td>1</td>\n",
       "      <td>0</td>\n",
       "      <td>NaN</td>\n",
       "      <td>NaN</td>\n",
       "      <td>7</td>\n",
       "      <td>269</td>\n",
       "      <td>0</td>\n",
       "      <td>Exempt</td>\n",
       "    </tr>\n",
       "  </tbody>\n",
       "</table>\n",
       "</div>"
      ],
      "text/plain": [
       "                       id                                               name  \\\n",
       "18081  972414398498867957  Rental unit in Barcelona · ★New · 4 bedrooms ·...   \n",
       "18082  972517151783308573  Rental unit in Barcelona · ★New · 1 bedroom · ...   \n",
       "18083  972525401820905576  Rental unit in Barcelona · ★New · 1 bedroom · ...   \n",
       "18084  972527438522389761  Rental unit in Barcelona · ★New · 1 bedroom · ...   \n",
       "18085  972529324055119972  Rental unit in Barcelona · ★New · 1 bedroom · ...   \n",
       "\n",
       "         host_id host_name neighbourhood_group                  neighbourhood  \\\n",
       "18081  150574145     Nuria          Nou Barris  Vilapicina i la Torre Llobeta   \n",
       "18082  490562593    Angela              Gràcia              la Vila de Gràcia   \n",
       "18083  490562593    Angela              Gràcia              la Vila de Gràcia   \n",
       "18084  490562593    Angela              Gràcia              la Vila de Gràcia   \n",
       "18085  490562593    Angela              Gràcia              la Vila de Gràcia   \n",
       "\n",
       "        latitude  longitude        room_type  price  minimum_nights  \\\n",
       "18081  41.429103   2.170701  Entire home/apt    350               5   \n",
       "18082  41.401627   2.154242     Private room    208               1   \n",
       "18083  41.401446   2.155472     Private room    208               1   \n",
       "18084  41.399756   2.153623     Private room    280               1   \n",
       "18085  41.400360   2.155542     Private room    280               1   \n",
       "\n",
       "       number_of_reviews last_review  reviews_per_month  \\\n",
       "18081                  0         NaN                NaN   \n",
       "18082                  0         NaN                NaN   \n",
       "18083                  0         NaN                NaN   \n",
       "18084                  0         NaN                NaN   \n",
       "18085                  0         NaN                NaN   \n",
       "\n",
       "       calculated_host_listings_count  availability_365  \\\n",
       "18081                               6               180   \n",
       "18082                               7               270   \n",
       "18083                               7               270   \n",
       "18084                               7               270   \n",
       "18085                               7               269   \n",
       "\n",
       "       number_of_reviews_ltm      license  \n",
       "18081                      0  HUTB-012380  \n",
       "18082                      0       Exempt  \n",
       "18083                      0       Exempt  \n",
       "18084                      0       Exempt  \n",
       "18085                      0       Exempt  "
      ]
     },
     "execution_count": 5,
     "metadata": {},
     "output_type": "execute_result"
    }
   ],
   "source": [
    "df.tail() # Read Only Last 5 Rows"
   ]
  },
  {
   "cell_type": "code",
   "execution_count": 6,
   "id": "d67cf332",
   "metadata": {},
   "outputs": [
    {
     "data": {
      "text/plain": [
       "(18086, 18)"
      ]
     },
     "execution_count": 6,
     "metadata": {},
     "output_type": "execute_result"
    }
   ],
   "source": [
    "#Display the dimensions -number of rows and columns- of the DataFrame\n",
    "df.shape"
   ]
  },
  {
   "cell_type": "code",
   "execution_count": 7,
   "id": "974edb92",
   "metadata": {},
   "outputs": [
    {
     "data": {
      "text/plain": [
       "Index(['id', 'name', 'host_id', 'host_name', 'neighbourhood_group',\n",
       "       'neighbourhood', 'latitude', 'longitude', 'room_type', 'price',\n",
       "       'minimum_nights', 'number_of_reviews', 'last_review',\n",
       "       'reviews_per_month', 'calculated_host_listings_count',\n",
       "       'availability_365', 'number_of_reviews_ltm', 'license'],\n",
       "      dtype='object')"
      ]
     },
     "execution_count": 7,
     "metadata": {},
     "output_type": "execute_result"
    }
   ],
   "source": [
    "# Display the column names of the DataFrame\n",
    "df.columns"
   ]
  },
  {
   "cell_type": "code",
   "execution_count": 8,
   "id": "11baa6ae",
   "metadata": {},
   "outputs": [
    {
     "name": "stdout",
     "output_type": "stream",
     "text": [
      "<class 'pandas.core.frame.DataFrame'>\n",
      "RangeIndex: 18086 entries, 0 to 18085\n",
      "Data columns (total 18 columns):\n",
      " #   Column                          Non-Null Count  Dtype  \n",
      "---  ------                          --------------  -----  \n",
      " 0   id                              18086 non-null  int64  \n",
      " 1   name                            18086 non-null  object \n",
      " 2   host_id                         18086 non-null  int64  \n",
      " 3   host_name                       18084 non-null  object \n",
      " 4   neighbourhood_group             18086 non-null  object \n",
      " 5   neighbourhood                   18086 non-null  object \n",
      " 6   latitude                        18086 non-null  float64\n",
      " 7   longitude                       18086 non-null  float64\n",
      " 8   room_type                       18086 non-null  object \n",
      " 9   price                           18086 non-null  int64  \n",
      " 10  minimum_nights                  18086 non-null  int64  \n",
      " 11  number_of_reviews               18086 non-null  int64  \n",
      " 12  last_review                     13620 non-null  object \n",
      " 13  reviews_per_month               13620 non-null  float64\n",
      " 14  calculated_host_listings_count  18086 non-null  int64  \n",
      " 15  availability_365                18086 non-null  int64  \n",
      " 16  number_of_reviews_ltm           18086 non-null  int64  \n",
      " 17  license                         12322 non-null  object \n",
      "dtypes: float64(3), int64(8), object(7)\n",
      "memory usage: 2.5+ MB\n"
     ]
    }
   ],
   "source": [
    "# Display concise summary information about the DataFrame\n",
    "df.info()"
   ]
  },
  {
   "cell_type": "markdown",
   "id": "61e4c479",
   "metadata": {},
   "source": [
    "- Clearly, the data does not contain any null values."
   ]
  },
  {
   "cell_type": "code",
   "execution_count": 9,
   "id": "6b3256eb",
   "metadata": {},
   "outputs": [
    {
     "data": {
      "text/html": [
       "<div>\n",
       "<style scoped>\n",
       "    .dataframe tbody tr th:only-of-type {\n",
       "        vertical-align: middle;\n",
       "    }\n",
       "\n",
       "    .dataframe tbody tr th {\n",
       "        vertical-align: top;\n",
       "    }\n",
       "\n",
       "    .dataframe thead th {\n",
       "        text-align: right;\n",
       "    }\n",
       "</style>\n",
       "<table border=\"1\" class=\"dataframe\">\n",
       "  <thead>\n",
       "    <tr style=\"text-align: right;\">\n",
       "      <th></th>\n",
       "      <th>id</th>\n",
       "      <th>host_id</th>\n",
       "      <th>latitude</th>\n",
       "      <th>longitude</th>\n",
       "      <th>price</th>\n",
       "      <th>minimum_nights</th>\n",
       "      <th>number_of_reviews</th>\n",
       "      <th>reviews_per_month</th>\n",
       "      <th>calculated_host_listings_count</th>\n",
       "      <th>availability_365</th>\n",
       "      <th>number_of_reviews_ltm</th>\n",
       "    </tr>\n",
       "  </thead>\n",
       "  <tbody>\n",
       "    <tr>\n",
       "      <th>count</th>\n",
       "      <td>1.808600e+04</td>\n",
       "      <td>1.808600e+04</td>\n",
       "      <td>18086.000000</td>\n",
       "      <td>18086.000000</td>\n",
       "      <td>18086.000000</td>\n",
       "      <td>18086.000000</td>\n",
       "      <td>18086.000000</td>\n",
       "      <td>13620.000000</td>\n",
       "      <td>18086.000000</td>\n",
       "      <td>18086.000000</td>\n",
       "      <td>18086.000000</td>\n",
       "    </tr>\n",
       "    <tr>\n",
       "      <th>mean</th>\n",
       "      <td>2.997120e+17</td>\n",
       "      <td>1.661849e+08</td>\n",
       "      <td>41.391998</td>\n",
       "      <td>2.166949</td>\n",
       "      <td>162.802389</td>\n",
       "      <td>14.759095</td>\n",
       "      <td>42.220060</td>\n",
       "      <td>1.436020</td>\n",
       "      <td>31.625677</td>\n",
       "      <td>171.820856</td>\n",
       "      <td>11.439511</td>\n",
       "    </tr>\n",
       "    <tr>\n",
       "      <th>std</th>\n",
       "      <td>3.949137e+17</td>\n",
       "      <td>1.718997e+08</td>\n",
       "      <td>0.014062</td>\n",
       "      <td>0.017461</td>\n",
       "      <td>1057.267349</td>\n",
       "      <td>32.360931</td>\n",
       "      <td>85.727646</td>\n",
       "      <td>1.854578</td>\n",
       "      <td>60.751970</td>\n",
       "      <td>129.471124</td>\n",
       "      <td>23.274315</td>\n",
       "    </tr>\n",
       "    <tr>\n",
       "      <th>min</th>\n",
       "      <td>1.867400e+04</td>\n",
       "      <td>3.073000e+03</td>\n",
       "      <td>41.351858</td>\n",
       "      <td>2.091740</td>\n",
       "      <td>8.000000</td>\n",
       "      <td>1.000000</td>\n",
       "      <td>0.000000</td>\n",
       "      <td>0.010000</td>\n",
       "      <td>1.000000</td>\n",
       "      <td>0.000000</td>\n",
       "      <td>0.000000</td>\n",
       "    </tr>\n",
       "    <tr>\n",
       "      <th>25%</th>\n",
       "      <td>2.172103e+07</td>\n",
       "      <td>9.919300e+06</td>\n",
       "      <td>41.380990</td>\n",
       "      <td>2.156711</td>\n",
       "      <td>52.000000</td>\n",
       "      <td>1.000000</td>\n",
       "      <td>1.000000</td>\n",
       "      <td>0.240000</td>\n",
       "      <td>1.000000</td>\n",
       "      <td>47.000000</td>\n",
       "      <td>0.000000</td>\n",
       "    </tr>\n",
       "    <tr>\n",
       "      <th>50%</th>\n",
       "      <td>4.434994e+07</td>\n",
       "      <td>9.629911e+07</td>\n",
       "      <td>41.389628</td>\n",
       "      <td>2.167956</td>\n",
       "      <td>100.000000</td>\n",
       "      <td>3.000000</td>\n",
       "      <td>6.000000</td>\n",
       "      <td>0.850000</td>\n",
       "      <td>5.000000</td>\n",
       "      <td>175.000000</td>\n",
       "      <td>2.000000</td>\n",
       "    </tr>\n",
       "    <tr>\n",
       "      <th>75%</th>\n",
       "      <td>7.449703e+17</td>\n",
       "      <td>3.103488e+08</td>\n",
       "      <td>41.401420</td>\n",
       "      <td>2.177468</td>\n",
       "      <td>185.000000</td>\n",
       "      <td>31.000000</td>\n",
       "      <td>42.000000</td>\n",
       "      <td>2.100000</td>\n",
       "      <td>28.000000</td>\n",
       "      <td>302.000000</td>\n",
       "      <td>15.000000</td>\n",
       "    </tr>\n",
       "    <tr>\n",
       "      <th>max</th>\n",
       "      <td>9.739554e+17</td>\n",
       "      <td>5.354008e+08</td>\n",
       "      <td>41.459560</td>\n",
       "      <td>2.227710</td>\n",
       "      <td>90000.000000</td>\n",
       "      <td>1125.000000</td>\n",
       "      <td>1817.000000</td>\n",
       "      <td>55.020000</td>\n",
       "      <td>294.000000</td>\n",
       "      <td>365.000000</td>\n",
       "      <td>836.000000</td>\n",
       "    </tr>\n",
       "  </tbody>\n",
       "</table>\n",
       "</div>"
      ],
      "text/plain": [
       "                 id       host_id      latitude     longitude         price  \\\n",
       "count  1.808600e+04  1.808600e+04  18086.000000  18086.000000  18086.000000   \n",
       "mean   2.997120e+17  1.661849e+08     41.391998      2.166949    162.802389   \n",
       "std    3.949137e+17  1.718997e+08      0.014062      0.017461   1057.267349   \n",
       "min    1.867400e+04  3.073000e+03     41.351858      2.091740      8.000000   \n",
       "25%    2.172103e+07  9.919300e+06     41.380990      2.156711     52.000000   \n",
       "50%    4.434994e+07  9.629911e+07     41.389628      2.167956    100.000000   \n",
       "75%    7.449703e+17  3.103488e+08     41.401420      2.177468    185.000000   \n",
       "max    9.739554e+17  5.354008e+08     41.459560      2.227710  90000.000000   \n",
       "\n",
       "       minimum_nights  number_of_reviews  reviews_per_month  \\\n",
       "count    18086.000000       18086.000000       13620.000000   \n",
       "mean        14.759095          42.220060           1.436020   \n",
       "std         32.360931          85.727646           1.854578   \n",
       "min          1.000000           0.000000           0.010000   \n",
       "25%          1.000000           1.000000           0.240000   \n",
       "50%          3.000000           6.000000           0.850000   \n",
       "75%         31.000000          42.000000           2.100000   \n",
       "max       1125.000000        1817.000000          55.020000   \n",
       "\n",
       "       calculated_host_listings_count  availability_365  number_of_reviews_ltm  \n",
       "count                    18086.000000      18086.000000           18086.000000  \n",
       "mean                        31.625677        171.820856              11.439511  \n",
       "std                         60.751970        129.471124              23.274315  \n",
       "min                          1.000000          0.000000               0.000000  \n",
       "25%                          1.000000         47.000000               0.000000  \n",
       "50%                          5.000000        175.000000               2.000000  \n",
       "75%                         28.000000        302.000000              15.000000  \n",
       "max                        294.000000        365.000000             836.000000  "
      ]
     },
     "execution_count": 9,
     "metadata": {},
     "output_type": "execute_result"
    }
   ],
   "source": [
    "# Display summary statistics of the DataFrame\n",
    "df.describe()"
   ]
  },
  {
   "cell_type": "code",
   "execution_count": 10,
   "id": "454c65dd",
   "metadata": {},
   "outputs": [
    {
     "data": {
      "text/html": [
       "<div>\n",
       "<style scoped>\n",
       "    .dataframe tbody tr th:only-of-type {\n",
       "        vertical-align: middle;\n",
       "    }\n",
       "\n",
       "    .dataframe tbody tr th {\n",
       "        vertical-align: top;\n",
       "    }\n",
       "\n",
       "    .dataframe thead th {\n",
       "        text-align: right;\n",
       "    }\n",
       "</style>\n",
       "<table border=\"1\" class=\"dataframe\">\n",
       "  <thead>\n",
       "    <tr style=\"text-align: right;\">\n",
       "      <th></th>\n",
       "      <th>name</th>\n",
       "      <th>host_name</th>\n",
       "      <th>neighbourhood_group</th>\n",
       "      <th>neighbourhood</th>\n",
       "      <th>room_type</th>\n",
       "      <th>last_review</th>\n",
       "      <th>license</th>\n",
       "    </tr>\n",
       "  </thead>\n",
       "  <tbody>\n",
       "    <tr>\n",
       "      <th>count</th>\n",
       "      <td>18086</td>\n",
       "      <td>18084</td>\n",
       "      <td>18086</td>\n",
       "      <td>18086</td>\n",
       "      <td>18086</td>\n",
       "      <td>13620</td>\n",
       "      <td>12322</td>\n",
       "    </tr>\n",
       "    <tr>\n",
       "      <th>unique</th>\n",
       "      <td>6237</td>\n",
       "      <td>3363</td>\n",
       "      <td>10</td>\n",
       "      <td>70</td>\n",
       "      <td>4</td>\n",
       "      <td>1658</td>\n",
       "      <td>5635</td>\n",
       "    </tr>\n",
       "    <tr>\n",
       "      <th>top</th>\n",
       "      <td>Rental unit in Barcelona · 1 bedroom · 1 bed ·...</td>\n",
       "      <td>Ukio</td>\n",
       "      <td>Eixample</td>\n",
       "      <td>la Dreta de l'Eixample</td>\n",
       "      <td>Entire home/apt</td>\n",
       "      <td>2023-08-20</td>\n",
       "      <td>Exempt</td>\n",
       "    </tr>\n",
       "    <tr>\n",
       "      <th>freq</th>\n",
       "      <td>740</td>\n",
       "      <td>294</td>\n",
       "      <td>6469</td>\n",
       "      <td>2233</td>\n",
       "      <td>10622</td>\n",
       "      <td>369</td>\n",
       "      <td>4783</td>\n",
       "    </tr>\n",
       "  </tbody>\n",
       "</table>\n",
       "</div>"
      ],
      "text/plain": [
       "                                                     name host_name  \\\n",
       "count                                               18086     18084   \n",
       "unique                                               6237      3363   \n",
       "top     Rental unit in Barcelona · 1 bedroom · 1 bed ·...      Ukio   \n",
       "freq                                                  740       294   \n",
       "\n",
       "       neighbourhood_group           neighbourhood        room_type  \\\n",
       "count                18086                   18086            18086   \n",
       "unique                  10                      70                4   \n",
       "top               Eixample  la Dreta de l'Eixample  Entire home/apt   \n",
       "freq                  6469                    2233            10622   \n",
       "\n",
       "       last_review license  \n",
       "count        13620   12322  \n",
       "unique        1658    5635  \n",
       "top     2023-08-20  Exempt  \n",
       "freq           369    4783  "
      ]
     },
     "execution_count": 10,
     "metadata": {},
     "output_type": "execute_result"
    }
   ],
   "source": [
    "# Display summary statistics of categorical and boolean columns in the DataFrame\n",
    "df.describe(include=['object' , 'bool'])"
   ]
  },
  {
   "cell_type": "code",
   "execution_count": 11,
   "id": "06357d61",
   "metadata": {
    "scrolled": true
   },
   "outputs": [
    {
     "data": {
      "text/plain": [
       "id                                   0\n",
       "name                                 0\n",
       "host_id                              0\n",
       "host_name                            2\n",
       "neighbourhood_group                  0\n",
       "neighbourhood                        0\n",
       "latitude                             0\n",
       "longitude                            0\n",
       "room_type                            0\n",
       "price                                0\n",
       "minimum_nights                       0\n",
       "number_of_reviews                    0\n",
       "last_review                       4466\n",
       "reviews_per_month                 4466\n",
       "calculated_host_listings_count       0\n",
       "availability_365                     0\n",
       "number_of_reviews_ltm                0\n",
       "license                           5764\n",
       "dtype: int64"
      ]
     },
     "execution_count": 11,
     "metadata": {},
     "output_type": "execute_result"
    }
   ],
   "source": [
    "# Display the count of missing values in each column of the DataFrame\n",
    "df.isna().sum()    "
   ]
  },
  {
   "cell_type": "code",
   "execution_count": 12,
   "id": "a04c8338",
   "metadata": {},
   "outputs": [
    {
     "data": {
      "text/html": [
       "<div>\n",
       "<style scoped>\n",
       "    .dataframe tbody tr th:only-of-type {\n",
       "        vertical-align: middle;\n",
       "    }\n",
       "\n",
       "    .dataframe tbody tr th {\n",
       "        vertical-align: top;\n",
       "    }\n",
       "\n",
       "    .dataframe thead th {\n",
       "        text-align: right;\n",
       "    }\n",
       "</style>\n",
       "<table border=\"1\" class=\"dataframe\">\n",
       "  <thead>\n",
       "    <tr style=\"text-align: right;\">\n",
       "      <th></th>\n",
       "      <th>id</th>\n",
       "      <th>name</th>\n",
       "      <th>host_id</th>\n",
       "      <th>host_name</th>\n",
       "      <th>neighbourhood_group</th>\n",
       "      <th>neighbourhood</th>\n",
       "      <th>latitude</th>\n",
       "      <th>longitude</th>\n",
       "      <th>room_type</th>\n",
       "      <th>price</th>\n",
       "      <th>minimum_nights</th>\n",
       "      <th>number_of_reviews</th>\n",
       "      <th>last_review</th>\n",
       "      <th>reviews_per_month</th>\n",
       "      <th>calculated_host_listings_count</th>\n",
       "      <th>availability_365</th>\n",
       "      <th>number_of_reviews_ltm</th>\n",
       "      <th>license</th>\n",
       "    </tr>\n",
       "  </thead>\n",
       "  <tbody>\n",
       "    <tr>\n",
       "      <th>0</th>\n",
       "      <td>18674</td>\n",
       "      <td>Rental unit in Barcelona · ★4.30 · 3 bedrooms ...</td>\n",
       "      <td>71615</td>\n",
       "      <td>Mireia And Maria</td>\n",
       "      <td>Eixample</td>\n",
       "      <td>la Sagrada Família</td>\n",
       "      <td>41.405560</td>\n",
       "      <td>2.17262</td>\n",
       "      <td>Entire home/apt</td>\n",
       "      <td>202</td>\n",
       "      <td>1</td>\n",
       "      <td>38</td>\n",
       "      <td>2023-06-26</td>\n",
       "      <td>0.30</td>\n",
       "      <td>30</td>\n",
       "      <td>34</td>\n",
       "      <td>8</td>\n",
       "      <td>HUTB-002062</td>\n",
       "    </tr>\n",
       "    <tr>\n",
       "      <th>1</th>\n",
       "      <td>23197</td>\n",
       "      <td>Rental unit in Sant Adria de Besos · ★4.77 · 3...</td>\n",
       "      <td>90417</td>\n",
       "      <td>Etain (Marnie)</td>\n",
       "      <td>Sant Martí</td>\n",
       "      <td>el Besòs i el Maresme</td>\n",
       "      <td>41.412432</td>\n",
       "      <td>2.21975</td>\n",
       "      <td>Entire home/apt</td>\n",
       "      <td>255</td>\n",
       "      <td>3</td>\n",
       "      <td>73</td>\n",
       "      <td>2023-08-15</td>\n",
       "      <td>0.48</td>\n",
       "      <td>2</td>\n",
       "      <td>150</td>\n",
       "      <td>11</td>\n",
       "      <td>HUTB005057</td>\n",
       "    </tr>\n",
       "    <tr>\n",
       "      <th>2</th>\n",
       "      <td>32711</td>\n",
       "      <td>Rental unit in Barcelona · ★4.46 · 2 bedrooms ...</td>\n",
       "      <td>135703</td>\n",
       "      <td>Nick</td>\n",
       "      <td>Gràcia</td>\n",
       "      <td>el Camp d'en Grassot i Gràcia Nova</td>\n",
       "      <td>41.405660</td>\n",
       "      <td>2.17015</td>\n",
       "      <td>Entire home/apt</td>\n",
       "      <td>171</td>\n",
       "      <td>21</td>\n",
       "      <td>95</td>\n",
       "      <td>2023-08-18</td>\n",
       "      <td>0.64</td>\n",
       "      <td>3</td>\n",
       "      <td>310</td>\n",
       "      <td>21</td>\n",
       "      <td>HUTB-001722</td>\n",
       "    </tr>\n",
       "    <tr>\n",
       "      <th>3</th>\n",
       "      <td>171646</td>\n",
       "      <td>Rental unit in Barcelona · ★4.81 · 2 bedrooms ...</td>\n",
       "      <td>400154</td>\n",
       "      <td>Mireia</td>\n",
       "      <td>Sant Martí</td>\n",
       "      <td>el Clot</td>\n",
       "      <td>41.406710</td>\n",
       "      <td>2.18592</td>\n",
       "      <td>Entire home/apt</td>\n",
       "      <td>152</td>\n",
       "      <td>3</td>\n",
       "      <td>81</td>\n",
       "      <td>2023-08-27</td>\n",
       "      <td>0.65</td>\n",
       "      <td>9</td>\n",
       "      <td>58</td>\n",
       "      <td>22</td>\n",
       "      <td>HUTB-004663</td>\n",
       "    </tr>\n",
       "    <tr>\n",
       "      <th>4</th>\n",
       "      <td>171816</td>\n",
       "      <td>Rental unit in Barcelona · ★4.71 · 2 bedrooms ...</td>\n",
       "      <td>400154</td>\n",
       "      <td>Mireia</td>\n",
       "      <td>Sant Martí</td>\n",
       "      <td>el Clot</td>\n",
       "      <td>41.406810</td>\n",
       "      <td>2.18553</td>\n",
       "      <td>Entire home/apt</td>\n",
       "      <td>150</td>\n",
       "      <td>3</td>\n",
       "      <td>49</td>\n",
       "      <td>2023-08-27</td>\n",
       "      <td>0.39</td>\n",
       "      <td>9</td>\n",
       "      <td>67</td>\n",
       "      <td>27</td>\n",
       "      <td>HUTB-004664</td>\n",
       "    </tr>\n",
       "  </tbody>\n",
       "</table>\n",
       "</div>"
      ],
      "text/plain": [
       "       id                                               name  host_id  \\\n",
       "0   18674  Rental unit in Barcelona · ★4.30 · 3 bedrooms ...    71615   \n",
       "1   23197  Rental unit in Sant Adria de Besos · ★4.77 · 3...    90417   \n",
       "2   32711  Rental unit in Barcelona · ★4.46 · 2 bedrooms ...   135703   \n",
       "3  171646  Rental unit in Barcelona · ★4.81 · 2 bedrooms ...   400154   \n",
       "4  171816  Rental unit in Barcelona · ★4.71 · 2 bedrooms ...   400154   \n",
       "\n",
       "          host_name neighbourhood_group                       neighbourhood  \\\n",
       "0  Mireia And Maria            Eixample                  la Sagrada Família   \n",
       "1    Etain (Marnie)          Sant Martí               el Besòs i el Maresme   \n",
       "2              Nick              Gràcia  el Camp d'en Grassot i Gràcia Nova   \n",
       "3            Mireia          Sant Martí                             el Clot   \n",
       "4            Mireia          Sant Martí                             el Clot   \n",
       "\n",
       "    latitude  longitude        room_type  price  minimum_nights  \\\n",
       "0  41.405560    2.17262  Entire home/apt    202               1   \n",
       "1  41.412432    2.21975  Entire home/apt    255               3   \n",
       "2  41.405660    2.17015  Entire home/apt    171              21   \n",
       "3  41.406710    2.18592  Entire home/apt    152               3   \n",
       "4  41.406810    2.18553  Entire home/apt    150               3   \n",
       "\n",
       "   number_of_reviews last_review  reviews_per_month  \\\n",
       "0                 38  2023-06-26               0.30   \n",
       "1                 73  2023-08-15               0.48   \n",
       "2                 95  2023-08-18               0.64   \n",
       "3                 81  2023-08-27               0.65   \n",
       "4                 49  2023-08-27               0.39   \n",
       "\n",
       "   calculated_host_listings_count  availability_365  number_of_reviews_ltm  \\\n",
       "0                              30                34                      8   \n",
       "1                               2               150                     11   \n",
       "2                               3               310                     21   \n",
       "3                               9                58                     22   \n",
       "4                               9                67                     27   \n",
       "\n",
       "       license  \n",
       "0  HUTB-002062  \n",
       "1   HUTB005057  \n",
       "2  HUTB-001722  \n",
       "3  HUTB-004663  \n",
       "4  HUTB-004664  "
      ]
     },
     "execution_count": 12,
     "metadata": {},
     "output_type": "execute_result"
    }
   ],
   "source": [
    "df.head()"
   ]
  },
  {
   "cell_type": "code",
   "execution_count": 13,
   "id": "a67ead12",
   "metadata": {},
   "outputs": [],
   "source": [
    "columns_to_drop = ['name', 'host_name', 'neighbourhood_group' , 'room_type' , 'license' , 'last_review', 'neighbourhood']\n",
    "df = df.drop(columns=columns_to_drop, axis=1)"
   ]
  },
  {
   "cell_type": "markdown",
   "id": "1fc5ec06",
   "metadata": {},
   "source": [
    "- The columns that are not useful have been removed"
   ]
  },
  {
   "cell_type": "code",
   "execution_count": 14,
   "id": "d4990b52",
   "metadata": {},
   "outputs": [
    {
     "data": {
      "text/html": [
       "<div>\n",
       "<style scoped>\n",
       "    .dataframe tbody tr th:only-of-type {\n",
       "        vertical-align: middle;\n",
       "    }\n",
       "\n",
       "    .dataframe tbody tr th {\n",
       "        vertical-align: top;\n",
       "    }\n",
       "\n",
       "    .dataframe thead th {\n",
       "        text-align: right;\n",
       "    }\n",
       "</style>\n",
       "<table border=\"1\" class=\"dataframe\">\n",
       "  <thead>\n",
       "    <tr style=\"text-align: right;\">\n",
       "      <th></th>\n",
       "      <th>id</th>\n",
       "      <th>host_id</th>\n",
       "      <th>latitude</th>\n",
       "      <th>longitude</th>\n",
       "      <th>price</th>\n",
       "      <th>minimum_nights</th>\n",
       "      <th>number_of_reviews</th>\n",
       "      <th>reviews_per_month</th>\n",
       "      <th>calculated_host_listings_count</th>\n",
       "      <th>availability_365</th>\n",
       "      <th>number_of_reviews_ltm</th>\n",
       "    </tr>\n",
       "  </thead>\n",
       "  <tbody>\n",
       "    <tr>\n",
       "      <th>0</th>\n",
       "      <td>18674</td>\n",
       "      <td>71615</td>\n",
       "      <td>41.405560</td>\n",
       "      <td>2.17262</td>\n",
       "      <td>202</td>\n",
       "      <td>1</td>\n",
       "      <td>38</td>\n",
       "      <td>0.30</td>\n",
       "      <td>30</td>\n",
       "      <td>34</td>\n",
       "      <td>8</td>\n",
       "    </tr>\n",
       "    <tr>\n",
       "      <th>1</th>\n",
       "      <td>23197</td>\n",
       "      <td>90417</td>\n",
       "      <td>41.412432</td>\n",
       "      <td>2.21975</td>\n",
       "      <td>255</td>\n",
       "      <td>3</td>\n",
       "      <td>73</td>\n",
       "      <td>0.48</td>\n",
       "      <td>2</td>\n",
       "      <td>150</td>\n",
       "      <td>11</td>\n",
       "    </tr>\n",
       "    <tr>\n",
       "      <th>2</th>\n",
       "      <td>32711</td>\n",
       "      <td>135703</td>\n",
       "      <td>41.405660</td>\n",
       "      <td>2.17015</td>\n",
       "      <td>171</td>\n",
       "      <td>21</td>\n",
       "      <td>95</td>\n",
       "      <td>0.64</td>\n",
       "      <td>3</td>\n",
       "      <td>310</td>\n",
       "      <td>21</td>\n",
       "    </tr>\n",
       "    <tr>\n",
       "      <th>3</th>\n",
       "      <td>171646</td>\n",
       "      <td>400154</td>\n",
       "      <td>41.406710</td>\n",
       "      <td>2.18592</td>\n",
       "      <td>152</td>\n",
       "      <td>3</td>\n",
       "      <td>81</td>\n",
       "      <td>0.65</td>\n",
       "      <td>9</td>\n",
       "      <td>58</td>\n",
       "      <td>22</td>\n",
       "    </tr>\n",
       "    <tr>\n",
       "      <th>4</th>\n",
       "      <td>171816</td>\n",
       "      <td>400154</td>\n",
       "      <td>41.406810</td>\n",
       "      <td>2.18553</td>\n",
       "      <td>150</td>\n",
       "      <td>3</td>\n",
       "      <td>49</td>\n",
       "      <td>0.39</td>\n",
       "      <td>9</td>\n",
       "      <td>67</td>\n",
       "      <td>27</td>\n",
       "    </tr>\n",
       "  </tbody>\n",
       "</table>\n",
       "</div>"
      ],
      "text/plain": [
       "       id  host_id   latitude  longitude  price  minimum_nights  \\\n",
       "0   18674    71615  41.405560    2.17262    202               1   \n",
       "1   23197    90417  41.412432    2.21975    255               3   \n",
       "2   32711   135703  41.405660    2.17015    171              21   \n",
       "3  171646   400154  41.406710    2.18592    152               3   \n",
       "4  171816   400154  41.406810    2.18553    150               3   \n",
       "\n",
       "   number_of_reviews  reviews_per_month  calculated_host_listings_count  \\\n",
       "0                 38               0.30                              30   \n",
       "1                 73               0.48                               2   \n",
       "2                 95               0.64                               3   \n",
       "3                 81               0.65                               9   \n",
       "4                 49               0.39                               9   \n",
       "\n",
       "   availability_365  number_of_reviews_ltm  \n",
       "0                34                      8  \n",
       "1               150                     11  \n",
       "2               310                     21  \n",
       "3                58                     22  \n",
       "4                67                     27  "
      ]
     },
     "execution_count": 14,
     "metadata": {},
     "output_type": "execute_result"
    }
   ],
   "source": [
    "df.head()"
   ]
  },
  {
   "cell_type": "code",
   "execution_count": 15,
   "id": "2939bfe2",
   "metadata": {},
   "outputs": [
    {
     "data": {
      "text/plain": [
       "id                                   0\n",
       "host_id                              0\n",
       "latitude                             0\n",
       "longitude                            0\n",
       "price                                0\n",
       "minimum_nights                       0\n",
       "number_of_reviews                    0\n",
       "reviews_per_month                 4466\n",
       "calculated_host_listings_count       0\n",
       "availability_365                     0\n",
       "number_of_reviews_ltm                0\n",
       "dtype: int64"
      ]
     },
     "execution_count": 15,
     "metadata": {},
     "output_type": "execute_result"
    }
   ],
   "source": [
    "df.isna().sum()   "
   ]
  },
  {
   "cell_type": "markdown",
   "id": "2da64513",
   "metadata": {},
   "source": [
    "# Fill Null Values"
   ]
  },
  {
   "cell_type": "code",
   "execution_count": 16,
   "id": "5145c366",
   "metadata": {},
   "outputs": [],
   "source": [
    "df['reviews_per_month'].fillna(df['reviews_per_month'].mean(), inplace=True)"
   ]
  },
  {
   "cell_type": "markdown",
   "id": "503b260d",
   "metadata": {},
   "source": [
    "- The missing data has been filled using the mean"
   ]
  },
  {
   "cell_type": "code",
   "execution_count": 17,
   "id": "77407a6f",
   "metadata": {},
   "outputs": [
    {
     "data": {
      "text/plain": [
       "id                                0\n",
       "host_id                           0\n",
       "latitude                          0\n",
       "longitude                         0\n",
       "price                             0\n",
       "minimum_nights                    0\n",
       "number_of_reviews                 0\n",
       "reviews_per_month                 0\n",
       "calculated_host_listings_count    0\n",
       "availability_365                  0\n",
       "number_of_reviews_ltm             0\n",
       "dtype: int64"
      ]
     },
     "execution_count": 17,
     "metadata": {},
     "output_type": "execute_result"
    }
   ],
   "source": [
    "df.isna().sum() "
   ]
  },
  {
   "cell_type": "code",
   "execution_count": 18,
   "id": "08c9a7f7",
   "metadata": {},
   "outputs": [
    {
     "data": {
      "text/plain": [
       "<AxesSubplot:>"
      ]
     },
     "execution_count": 18,
     "metadata": {},
     "output_type": "execute_result"
    },
    {
     "data": {
      "image/png": "[encoded data removed]",
      "text/plain": [
       "<Figure size 720x288 with 1 Axes>"
      ]
     },
     "metadata": {
      "needs_background": "light"
     },
     "output_type": "display_data"
    }
   ],
   "source": [
    "# Plot a histogram for the 'price' column \n",
    "df['price'].hist(figsize=(10,4))"
   ]
  },
  {
   "cell_type": "markdown",
   "id": "da6697a5",
   "metadata": {},
   "source": [
    "It is clear that the highest value does not exceed one hundred thousand, and the values are within this range"
   ]
  },
  {
   "cell_type": "code",
   "execution_count": 22,
   "id": "33350134",
   "metadata": {},
   "outputs": [
    {
     "data": {
      "text/plain": [
       "90000"
      ]
     },
     "execution_count": 22,
     "metadata": {},
     "output_type": "execute_result"
    }
   ],
   "source": [
    "df['price'].max()"
   ]
  },
  {
   "cell_type": "markdown",
   "id": "714353d1",
   "metadata": {},
   "source": [
    "- Indeed, as the histogram illustrates, the highest value does not exceed one hundred thousand.\""
   ]
  },
  {
   "cell_type": "code",
   "execution_count": null,
   "id": "46a2810b",
   "metadata": {},
   "outputs": [],
   "source": []
  },
  {
   "cell_type": "code",
   "execution_count": 63,
   "id": "9d233753",
   "metadata": {},
   "outputs": [
    {
     "data": {
      "text/plain": [
       "<AxesSubplot:ylabel='Density'>"
      ]
     },
     "execution_count": 63,
     "metadata": {},
     "output_type": "execute_result"
    },
    {
     "data": {
      "image/png": "[encoded data removed]",
      "text/plain": [
       "<Figure size 432x288 with 1 Axes>"
      ]
     },
     "metadata": {
      "needs_background": "light"
     },
     "output_type": "display_data"
    }
   ],
   "source": [
    "# Create a kernel density estimate plot for the 'price' column\n",
    "df['price'].plot(kind = 'density')"
   ]
  },
  {
   "cell_type": "markdown",
   "id": "c0e203e3",
   "metadata": {},
   "source": [
    "- Unlike the histogram, which shows counts in each bin \n",
    "- the plot gives a continuous estimate of the probability density across different price values."
   ]
  },
  {
   "cell_type": "code",
   "execution_count": 23,
   "id": "6de67e6f",
   "metadata": {},
   "outputs": [
    {
     "data": {
      "text/html": [
       "<div>\n",
       "<style scoped>\n",
       "    .dataframe tbody tr th:only-of-type {\n",
       "        vertical-align: middle;\n",
       "    }\n",
       "\n",
       "    .dataframe tbody tr th {\n",
       "        vertical-align: top;\n",
       "    }\n",
       "\n",
       "    .dataframe thead th {\n",
       "        text-align: right;\n",
       "    }\n",
       "</style>\n",
       "<table border=\"1\" class=\"dataframe\">\n",
       "  <thead>\n",
       "    <tr style=\"text-align: right;\">\n",
       "      <th>reviews_per_month</th>\n",
       "      <th>0.01</th>\n",
       "      <th>0.02</th>\n",
       "      <th>0.03</th>\n",
       "      <th>0.04</th>\n",
       "      <th>0.05</th>\n",
       "      <th>0.06</th>\n",
       "      <th>0.07</th>\n",
       "      <th>0.08</th>\n",
       "      <th>0.09</th>\n",
       "      <th>0.1</th>\n",
       "      <th>...</th>\n",
       "      <th>23.03</th>\n",
       "      <th>24.09</th>\n",
       "      <th>24.51</th>\n",
       "      <th>25.53</th>\n",
       "      <th>26.27</th>\n",
       "      <th>29.9</th>\n",
       "      <th>35.08</th>\n",
       "      <th>41.28</th>\n",
       "      <th>55.02</th>\n",
       "      <th>All</th>\n",
       "    </tr>\n",
       "    <tr>\n",
       "      <th>price</th>\n",
       "      <th></th>\n",
       "      <th></th>\n",
       "      <th></th>\n",
       "      <th></th>\n",
       "      <th></th>\n",
       "      <th></th>\n",
       "      <th></th>\n",
       "      <th></th>\n",
       "      <th></th>\n",
       "      <th></th>\n",
       "      <th></th>\n",
       "      <th></th>\n",
       "      <th></th>\n",
       "      <th></th>\n",
       "      <th></th>\n",
       "      <th></th>\n",
       "      <th></th>\n",
       "      <th></th>\n",
       "      <th></th>\n",
       "      <th></th>\n",
       "      <th></th>\n",
       "    </tr>\n",
       "  </thead>\n",
       "  <tbody>\n",
       "    <tr>\n",
       "      <th>8</th>\n",
       "      <td>0</td>\n",
       "      <td>0</td>\n",
       "      <td>0</td>\n",
       "      <td>0</td>\n",
       "      <td>0</td>\n",
       "      <td>0</td>\n",
       "      <td>0</td>\n",
       "      <td>0</td>\n",
       "      <td>0</td>\n",
       "      <td>0</td>\n",
       "      <td>...</td>\n",
       "      <td>0</td>\n",
       "      <td>0</td>\n",
       "      <td>0</td>\n",
       "      <td>0</td>\n",
       "      <td>0</td>\n",
       "      <td>0</td>\n",
       "      <td>0</td>\n",
       "      <td>0</td>\n",
       "      <td>0</td>\n",
       "      <td>1</td>\n",
       "    </tr>\n",
       "    <tr>\n",
       "      <th>9</th>\n",
       "      <td>3</td>\n",
       "      <td>0</td>\n",
       "      <td>0</td>\n",
       "      <td>0</td>\n",
       "      <td>0</td>\n",
       "      <td>0</td>\n",
       "      <td>0</td>\n",
       "      <td>0</td>\n",
       "      <td>0</td>\n",
       "      <td>0</td>\n",
       "      <td>...</td>\n",
       "      <td>0</td>\n",
       "      <td>0</td>\n",
       "      <td>0</td>\n",
       "      <td>0</td>\n",
       "      <td>0</td>\n",
       "      <td>0</td>\n",
       "      <td>0</td>\n",
       "      <td>0</td>\n",
       "      <td>0</td>\n",
       "      <td>6</td>\n",
       "    </tr>\n",
       "    <tr>\n",
       "      <th>10</th>\n",
       "      <td>0</td>\n",
       "      <td>1</td>\n",
       "      <td>0</td>\n",
       "      <td>1</td>\n",
       "      <td>0</td>\n",
       "      <td>1</td>\n",
       "      <td>0</td>\n",
       "      <td>0</td>\n",
       "      <td>0</td>\n",
       "      <td>0</td>\n",
       "      <td>...</td>\n",
       "      <td>0</td>\n",
       "      <td>0</td>\n",
       "      <td>0</td>\n",
       "      <td>0</td>\n",
       "      <td>0</td>\n",
       "      <td>0</td>\n",
       "      <td>0</td>\n",
       "      <td>0</td>\n",
       "      <td>0</td>\n",
       "      <td>12</td>\n",
       "    </tr>\n",
       "    <tr>\n",
       "      <th>11</th>\n",
       "      <td>0</td>\n",
       "      <td>1</td>\n",
       "      <td>0</td>\n",
       "      <td>1</td>\n",
       "      <td>0</td>\n",
       "      <td>0</td>\n",
       "      <td>0</td>\n",
       "      <td>1</td>\n",
       "      <td>0</td>\n",
       "      <td>0</td>\n",
       "      <td>...</td>\n",
       "      <td>0</td>\n",
       "      <td>0</td>\n",
       "      <td>0</td>\n",
       "      <td>0</td>\n",
       "      <td>0</td>\n",
       "      <td>0</td>\n",
       "      <td>0</td>\n",
       "      <td>0</td>\n",
       "      <td>0</td>\n",
       "      <td>6</td>\n",
       "    </tr>\n",
       "    <tr>\n",
       "      <th>12</th>\n",
       "      <td>1</td>\n",
       "      <td>0</td>\n",
       "      <td>1</td>\n",
       "      <td>1</td>\n",
       "      <td>0</td>\n",
       "      <td>0</td>\n",
       "      <td>0</td>\n",
       "      <td>0</td>\n",
       "      <td>0</td>\n",
       "      <td>0</td>\n",
       "      <td>...</td>\n",
       "      <td>0</td>\n",
       "      <td>0</td>\n",
       "      <td>0</td>\n",
       "      <td>0</td>\n",
       "      <td>0</td>\n",
       "      <td>0</td>\n",
       "      <td>0</td>\n",
       "      <td>0</td>\n",
       "      <td>0</td>\n",
       "      <td>8</td>\n",
       "    </tr>\n",
       "    <tr>\n",
       "      <th>...</th>\n",
       "      <td>...</td>\n",
       "      <td>...</td>\n",
       "      <td>...</td>\n",
       "      <td>...</td>\n",
       "      <td>...</td>\n",
       "      <td>...</td>\n",
       "      <td>...</td>\n",
       "      <td>...</td>\n",
       "      <td>...</td>\n",
       "      <td>...</td>\n",
       "      <td>...</td>\n",
       "      <td>...</td>\n",
       "      <td>...</td>\n",
       "      <td>...</td>\n",
       "      <td>...</td>\n",
       "      <td>...</td>\n",
       "      <td>...</td>\n",
       "      <td>...</td>\n",
       "      <td>...</td>\n",
       "      <td>...</td>\n",
       "      <td>...</td>\n",
       "    </tr>\n",
       "    <tr>\n",
       "      <th>11000</th>\n",
       "      <td>0</td>\n",
       "      <td>0</td>\n",
       "      <td>0</td>\n",
       "      <td>0</td>\n",
       "      <td>0</td>\n",
       "      <td>0</td>\n",
       "      <td>0</td>\n",
       "      <td>0</td>\n",
       "      <td>0</td>\n",
       "      <td>0</td>\n",
       "      <td>...</td>\n",
       "      <td>0</td>\n",
       "      <td>0</td>\n",
       "      <td>0</td>\n",
       "      <td>0</td>\n",
       "      <td>0</td>\n",
       "      <td>0</td>\n",
       "      <td>0</td>\n",
       "      <td>0</td>\n",
       "      <td>0</td>\n",
       "      <td>1</td>\n",
       "    </tr>\n",
       "    <tr>\n",
       "      <th>57731</th>\n",
       "      <td>0</td>\n",
       "      <td>1</td>\n",
       "      <td>0</td>\n",
       "      <td>0</td>\n",
       "      <td>0</td>\n",
       "      <td>0</td>\n",
       "      <td>0</td>\n",
       "      <td>0</td>\n",
       "      <td>0</td>\n",
       "      <td>0</td>\n",
       "      <td>...</td>\n",
       "      <td>0</td>\n",
       "      <td>0</td>\n",
       "      <td>0</td>\n",
       "      <td>0</td>\n",
       "      <td>0</td>\n",
       "      <td>0</td>\n",
       "      <td>0</td>\n",
       "      <td>0</td>\n",
       "      <td>0</td>\n",
       "      <td>1</td>\n",
       "    </tr>\n",
       "    <tr>\n",
       "      <th>84999</th>\n",
       "      <td>0</td>\n",
       "      <td>0</td>\n",
       "      <td>0</td>\n",
       "      <td>0</td>\n",
       "      <td>0</td>\n",
       "      <td>0</td>\n",
       "      <td>0</td>\n",
       "      <td>0</td>\n",
       "      <td>0</td>\n",
       "      <td>0</td>\n",
       "      <td>...</td>\n",
       "      <td>0</td>\n",
       "      <td>0</td>\n",
       "      <td>0</td>\n",
       "      <td>0</td>\n",
       "      <td>0</td>\n",
       "      <td>0</td>\n",
       "      <td>0</td>\n",
       "      <td>0</td>\n",
       "      <td>0</td>\n",
       "      <td>1</td>\n",
       "    </tr>\n",
       "    <tr>\n",
       "      <th>90000</th>\n",
       "      <td>1</td>\n",
       "      <td>0</td>\n",
       "      <td>0</td>\n",
       "      <td>0</td>\n",
       "      <td>0</td>\n",
       "      <td>0</td>\n",
       "      <td>0</td>\n",
       "      <td>0</td>\n",
       "      <td>0</td>\n",
       "      <td>0</td>\n",
       "      <td>...</td>\n",
       "      <td>0</td>\n",
       "      <td>0</td>\n",
       "      <td>0</td>\n",
       "      <td>0</td>\n",
       "      <td>0</td>\n",
       "      <td>0</td>\n",
       "      <td>0</td>\n",
       "      <td>0</td>\n",
       "      <td>0</td>\n",
       "      <td>1</td>\n",
       "    </tr>\n",
       "    <tr>\n",
       "      <th>All</th>\n",
       "      <td>190</td>\n",
       "      <td>289</td>\n",
       "      <td>169</td>\n",
       "      <td>237</td>\n",
       "      <td>162</td>\n",
       "      <td>147</td>\n",
       "      <td>131</td>\n",
       "      <td>228</td>\n",
       "      <td>154</td>\n",
       "      <td>132</td>\n",
       "      <td>...</td>\n",
       "      <td>1</td>\n",
       "      <td>1</td>\n",
       "      <td>1</td>\n",
       "      <td>1</td>\n",
       "      <td>1</td>\n",
       "      <td>1</td>\n",
       "      <td>1</td>\n",
       "      <td>1</td>\n",
       "      <td>1</td>\n",
       "      <td>18086</td>\n",
       "    </tr>\n",
       "  </tbody>\n",
       "</table>\n",
       "<p>699 rows × 784 columns</p>\n",
       "</div>"
      ],
      "text/plain": [
       "reviews_per_month  0.01  0.02  0.03  0.04  0.05  0.06  0.07  0.08  0.09  0.1  \\\n",
       "price                                                                          \n",
       "8                     0     0     0     0     0     0     0     0     0    0   \n",
       "9                     3     0     0     0     0     0     0     0     0    0   \n",
       "10                    0     1     0     1     0     1     0     0     0    0   \n",
       "11                    0     1     0     1     0     0     0     1     0    0   \n",
       "12                    1     0     1     1     0     0     0     0     0    0   \n",
       "...                 ...   ...   ...   ...   ...   ...   ...   ...   ...  ...   \n",
       "11000                 0     0     0     0     0     0     0     0     0    0   \n",
       "57731                 0     1     0     0     0     0     0     0     0    0   \n",
       "84999                 0     0     0     0     0     0     0     0     0    0   \n",
       "90000                 1     0     0     0     0     0     0     0     0    0   \n",
       "All                 190   289   169   237   162   147   131   228   154  132   \n",
       "\n",
       "reviews_per_month  ...  23.03  24.09  24.51  25.53  26.27  29.9  35.08  41.28  \\\n",
       "price              ...                                                          \n",
       "8                  ...      0      0      0      0      0     0      0      0   \n",
       "9                  ...      0      0      0      0      0     0      0      0   \n",
       "10                 ...      0      0      0      0      0     0      0      0   \n",
       "11                 ...      0      0      0      0      0     0      0      0   \n",
       "12                 ...      0      0      0      0      0     0      0      0   \n",
       "...                ...    ...    ...    ...    ...    ...   ...    ...    ...   \n",
       "11000              ...      0      0      0      0      0     0      0      0   \n",
       "57731              ...      0      0      0      0      0     0      0      0   \n",
       "84999              ...      0      0      0      0      0     0      0      0   \n",
       "90000              ...      0      0      0      0      0     0      0      0   \n",
       "All                ...      1      1      1      1      1     1      1      1   \n",
       "\n",
       "reviews_per_month  55.02    All  \n",
       "price                            \n",
       "8                      0      1  \n",
       "9                      0      6  \n",
       "10                     0     12  \n",
       "11                     0      6  \n",
       "12                     0      8  \n",
       "...                  ...    ...  \n",
       "11000                  0      1  \n",
       "57731                  0      1  \n",
       "84999                  0      1  \n",
       "90000                  0      1  \n",
       "All                    1  18086  \n",
       "\n",
       "[699 rows x 784 columns]"
      ]
     },
     "execution_count": 23,
     "metadata": {},
     "output_type": "execute_result"
    }
   ],
   "source": [
    "# Create a cross-tabulation between 'price' and 'number_of_reviews'\n",
    "pd.crosstab(df['price'], df['reviews_per_month'] , margins=True) "
   ]
  },
  {
   "cell_type": "markdown",
   "id": "47c94f2f",
   "metadata": {},
   "source": [
    "- Clearly, it is evident that as the price increases, the number of reviews tends to increase as well on a monthly basis."
   ]
  },
  {
   "cell_type": "code",
   "execution_count": 65,
   "id": "92ee7e0f",
   "metadata": {},
   "outputs": [
    {
     "data": {
      "text/html": [
       "<div>\n",
       "<style scoped>\n",
       "    .dataframe tbody tr th:only-of-type {\n",
       "        vertical-align: middle;\n",
       "    }\n",
       "\n",
       "    .dataframe tbody tr th {\n",
       "        vertical-align: top;\n",
       "    }\n",
       "\n",
       "    .dataframe thead th {\n",
       "        text-align: right;\n",
       "    }\n",
       "</style>\n",
       "<table border=\"1\" class=\"dataframe\">\n",
       "  <thead>\n",
       "    <tr style=\"text-align: right;\">\n",
       "      <th></th>\n",
       "      <th>id</th>\n",
       "      <th>host_id</th>\n",
       "      <th>latitude</th>\n",
       "      <th>longitude</th>\n",
       "      <th>price</th>\n",
       "      <th>minimum_nights</th>\n",
       "      <th>number_of_reviews</th>\n",
       "      <th>reviews_per_month</th>\n",
       "      <th>calculated_host_listings_count</th>\n",
       "      <th>availability_365</th>\n",
       "      <th>number_of_reviews_ltm</th>\n",
       "    </tr>\n",
       "  </thead>\n",
       "  <tbody>\n",
       "    <tr>\n",
       "      <th>0</th>\n",
       "      <td>18674</td>\n",
       "      <td>71615</td>\n",
       "      <td>41.405560</td>\n",
       "      <td>2.17262</td>\n",
       "      <td>202</td>\n",
       "      <td>1</td>\n",
       "      <td>38</td>\n",
       "      <td>0.30</td>\n",
       "      <td>30</td>\n",
       "      <td>34</td>\n",
       "      <td>8</td>\n",
       "    </tr>\n",
       "    <tr>\n",
       "      <th>1</th>\n",
       "      <td>23197</td>\n",
       "      <td>90417</td>\n",
       "      <td>41.412432</td>\n",
       "      <td>2.21975</td>\n",
       "      <td>255</td>\n",
       "      <td>3</td>\n",
       "      <td>73</td>\n",
       "      <td>0.48</td>\n",
       "      <td>2</td>\n",
       "      <td>150</td>\n",
       "      <td>11</td>\n",
       "    </tr>\n",
       "    <tr>\n",
       "      <th>2</th>\n",
       "      <td>32711</td>\n",
       "      <td>135703</td>\n",
       "      <td>41.405660</td>\n",
       "      <td>2.17015</td>\n",
       "      <td>171</td>\n",
       "      <td>21</td>\n",
       "      <td>95</td>\n",
       "      <td>0.64</td>\n",
       "      <td>3</td>\n",
       "      <td>310</td>\n",
       "      <td>21</td>\n",
       "    </tr>\n",
       "    <tr>\n",
       "      <th>3</th>\n",
       "      <td>171646</td>\n",
       "      <td>400154</td>\n",
       "      <td>41.406710</td>\n",
       "      <td>2.18592</td>\n",
       "      <td>152</td>\n",
       "      <td>3</td>\n",
       "      <td>81</td>\n",
       "      <td>0.65</td>\n",
       "      <td>9</td>\n",
       "      <td>58</td>\n",
       "      <td>22</td>\n",
       "    </tr>\n",
       "    <tr>\n",
       "      <th>4</th>\n",
       "      <td>171816</td>\n",
       "      <td>400154</td>\n",
       "      <td>41.406810</td>\n",
       "      <td>2.18553</td>\n",
       "      <td>150</td>\n",
       "      <td>3</td>\n",
       "      <td>49</td>\n",
       "      <td>0.39</td>\n",
       "      <td>9</td>\n",
       "      <td>67</td>\n",
       "      <td>27</td>\n",
       "    </tr>\n",
       "  </tbody>\n",
       "</table>\n",
       "</div>"
      ],
      "text/plain": [
       "       id  host_id   latitude  longitude  price  minimum_nights  \\\n",
       "0   18674    71615  41.405560    2.17262    202               1   \n",
       "1   23197    90417  41.412432    2.21975    255               3   \n",
       "2   32711   135703  41.405660    2.17015    171              21   \n",
       "3  171646   400154  41.406710    2.18592    152               3   \n",
       "4  171816   400154  41.406810    2.18553    150               3   \n",
       "\n",
       "   number_of_reviews  reviews_per_month  calculated_host_listings_count  \\\n",
       "0                 38               0.30                              30   \n",
       "1                 73               0.48                               2   \n",
       "2                 95               0.64                               3   \n",
       "3                 81               0.65                               9   \n",
       "4                 49               0.39                               9   \n",
       "\n",
       "   availability_365  number_of_reviews_ltm  \n",
       "0                34                      8  \n",
       "1               150                     11  \n",
       "2               310                     21  \n",
       "3                58                     22  \n",
       "4                67                     27  "
      ]
     },
     "execution_count": 65,
     "metadata": {},
     "output_type": "execute_result"
    }
   ],
   "source": [
    "df.head()"
   ]
  },
  {
   "cell_type": "code",
   "execution_count": 66,
   "id": "725a1485",
   "metadata": {},
   "outputs": [
    {
     "data": {
      "text/plain": [
       "1.4360198237884902"
      ]
     },
     "execution_count": 66,
     "metadata": {},
     "output_type": "execute_result"
    }
   ],
   "source": [
    "df['reviews_per_month'].mean()"
   ]
  },
  {
   "cell_type": "code",
   "execution_count": 67,
   "id": "5e1410c8",
   "metadata": {},
   "outputs": [
    {
     "data": {
      "text/plain": [
       "162.80238858785802"
      ]
     },
     "execution_count": 67,
     "metadata": {},
     "output_type": "execute_result"
    }
   ],
   "source": [
    "df['price'].mean()"
   ]
  },
  {
   "cell_type": "code",
   "execution_count": 68,
   "id": "7603603b",
   "metadata": {},
   "outputs": [
    {
     "data": {
      "text/plain": [
       "1.64296524624811"
      ]
     },
     "execution_count": 68,
     "metadata": {},
     "output_type": "execute_result"
    }
   ],
   "source": [
    "# Calculate the mean of 'reviews_per_month' for rows where 'price' is greater than 162\n",
    "df[df['price'] > 162]['reviews_per_month'].mean()"
   ]
  },
  {
   "cell_type": "code",
   "execution_count": 69,
   "id": "0aeaefb1",
   "metadata": {},
   "outputs": [
    {
     "name": "stderr",
     "output_type": "stream",
     "text": [
      "D:\\anaconda334\\lib\\site-packages\\seaborn\\_decorators.py:36: FutureWarning:\n",
      "\n",
      "Pass the following variable as a keyword arg: x. From version 0.12, the only valid positional argument will be `data`, and passing other arguments without an explicit keyword will result in an error or misinterpretation.\n",
      "\n"
     ]
    },
    {
     "data": {
      "text/plain": [
       "<AxesSubplot:xlabel='reviews_per_month'>"
      ]
     },
     "execution_count": 69,
     "metadata": {},
     "output_type": "execute_result"
    },
    {
     "data": {
      "image/png": "[encoded data removed]",
      "text/plain": [
       "<Figure size 432x288 with 1 Axes>"
      ]
     },
     "metadata": {
      "needs_background": "light"
     },
     "output_type": "display_data"
    }
   ],
   "source": [
    "# Create a boxplot for the 'reviews_per_month' column \n",
    "sns.boxplot(df['reviews_per_month'])"
   ]
  },
  {
   "cell_type": "markdown",
   "id": "9e5b49e1",
   "metadata": {},
   "source": [
    "- It is evident that the distribution indicates that the data is right-skewed"
   ]
  },
  {
   "cell_type": "code",
   "execution_count": 70,
   "id": "81dc5f3c",
   "metadata": {},
   "outputs": [
    {
     "name": "stderr",
     "output_type": "stream",
     "text": [
      "D:\\anaconda334\\lib\\site-packages\\seaborn\\_decorators.py:36: FutureWarning:\n",
      "\n",
      "Pass the following variable as a keyword arg: x. From version 0.12, the only valid positional argument will be `data`, and passing other arguments without an explicit keyword will result in an error or misinterpretation.\n",
      "\n"
     ]
    },
    {
     "data": {
      "text/plain": [
       "<AxesSubplot:xlabel='reviews_per_month'>"
      ]
     },
     "execution_count": 70,
     "metadata": {},
     "output_type": "execute_result"
    },
    {
     "data": {
      "image/png": "[encoded data removed]",
      "text/plain": [
       "<Figure size 432x288 with 1 Axes>"
      ]
     },
     "metadata": {
      "needs_background": "light"
     },
     "output_type": "display_data"
    }
   ],
   "source": [
    "# Create a violin plot for the 'reviews_per_month' column \n",
    "sns.violinplot(df['reviews_per_month'])"
   ]
  },
  {
   "cell_type": "code",
   "execution_count": 71,
   "id": "09b9a199",
   "metadata": {},
   "outputs": [
    {
     "data": {
      "text/plain": [
       "<AxesSubplot:xlabel='price', ylabel='count'>"
      ]
     },
     "execution_count": 71,
     "metadata": {},
     "output_type": "execute_result"
    },
    {
     "data": {
      "image/png": "[encoded data removed]",
      "text/plain": [
       "<Figure size 720x504 with 2 Axes>"
      ]
     },
     "metadata": {
      "needs_background": "light"
     },
     "output_type": "display_data"
    }
   ],
   "source": [
    "_ , axes = plt.subplots(nrows = 1 , ncols=2 , figsize=(10,7))\n",
    "sns.countplot(x = 'reviews_per_month' , data = df , ax = axes[0])\n",
    "sns.countplot(x='price' , data = df , ax = axes[1])"
   ]
  },
  {
   "cell_type": "markdown",
   "id": "d525f0b2",
   "metadata": {},
   "source": [
    "- the values in the price are increasing, but the review values are very low and considered few.\""
   ]
  },
  {
   "cell_type": "code",
   "execution_count": 72,
   "id": "9f9d7e94",
   "metadata": {
    "scrolled": true
   },
   "outputs": [
    {
     "data": {
      "text/plain": [
       "<AxesSubplot:>"
      ]
     },
     "execution_count": 72,
     "metadata": {},
     "output_type": "execute_result"
    },
    {
     "data": {
      "image/png": "[encoded data removed]",
      "text/plain": [
       "<Figure size 720x720 with 2 Axes>"
      ]
     },
     "metadata": {
      "needs_background": "light"
     },
     "output_type": "display_data"
    }
   ],
   "source": [
    "# Create a heatmap to visualize the correlation matrix of the DataFrame\n",
    "plt .figure(figsize=(10,10))\n",
    "sns.heatmap(df.corr() , annot=True)"
   ]
  },
  {
   "cell_type": "markdown",
   "id": "cd61aa94",
   "metadata": {},
   "source": [
    "- there is a relationship between price and minimum night."
   ]
  },
  {
   "cell_type": "code",
   "execution_count": 25,
   "id": "087d2e4d",
   "metadata": {},
   "outputs": [
    {
     "data": {
      "text/html": [
       "<div>\n",
       "<style scoped>\n",
       "    .dataframe tbody tr th:only-of-type {\n",
       "        vertical-align: middle;\n",
       "    }\n",
       "\n",
       "    .dataframe tbody tr th {\n",
       "        vertical-align: top;\n",
       "    }\n",
       "\n",
       "    .dataframe thead th {\n",
       "        text-align: right;\n",
       "    }\n",
       "</style>\n",
       "<table border=\"1\" class=\"dataframe\">\n",
       "  <thead>\n",
       "    <tr style=\"text-align: right;\">\n",
       "      <th>minimum_nights</th>\n",
       "      <th>1</th>\n",
       "      <th>2</th>\n",
       "      <th>3</th>\n",
       "      <th>4</th>\n",
       "      <th>5</th>\n",
       "      <th>6</th>\n",
       "      <th>7</th>\n",
       "      <th>8</th>\n",
       "      <th>9</th>\n",
       "      <th>10</th>\n",
       "      <th>...</th>\n",
       "      <th>360</th>\n",
       "      <th>364</th>\n",
       "      <th>365</th>\n",
       "      <th>500</th>\n",
       "      <th>865</th>\n",
       "      <th>900</th>\n",
       "      <th>1000</th>\n",
       "      <th>1124</th>\n",
       "      <th>1125</th>\n",
       "      <th>All</th>\n",
       "    </tr>\n",
       "    <tr>\n",
       "      <th>price</th>\n",
       "      <th></th>\n",
       "      <th></th>\n",
       "      <th></th>\n",
       "      <th></th>\n",
       "      <th></th>\n",
       "      <th></th>\n",
       "      <th></th>\n",
       "      <th></th>\n",
       "      <th></th>\n",
       "      <th></th>\n",
       "      <th></th>\n",
       "      <th></th>\n",
       "      <th></th>\n",
       "      <th></th>\n",
       "      <th></th>\n",
       "      <th></th>\n",
       "      <th></th>\n",
       "      <th></th>\n",
       "      <th></th>\n",
       "      <th></th>\n",
       "      <th></th>\n",
       "    </tr>\n",
       "  </thead>\n",
       "  <tbody>\n",
       "    <tr>\n",
       "      <th>8</th>\n",
       "      <td>0</td>\n",
       "      <td>0</td>\n",
       "      <td>0</td>\n",
       "      <td>0</td>\n",
       "      <td>0</td>\n",
       "      <td>0</td>\n",
       "      <td>0</td>\n",
       "      <td>0</td>\n",
       "      <td>0</td>\n",
       "      <td>0</td>\n",
       "      <td>...</td>\n",
       "      <td>0</td>\n",
       "      <td>0</td>\n",
       "      <td>0</td>\n",
       "      <td>0</td>\n",
       "      <td>0</td>\n",
       "      <td>0</td>\n",
       "      <td>0</td>\n",
       "      <td>0</td>\n",
       "      <td>0</td>\n",
       "      <td>1</td>\n",
       "    </tr>\n",
       "    <tr>\n",
       "      <th>9</th>\n",
       "      <td>5</td>\n",
       "      <td>0</td>\n",
       "      <td>0</td>\n",
       "      <td>0</td>\n",
       "      <td>0</td>\n",
       "      <td>0</td>\n",
       "      <td>0</td>\n",
       "      <td>0</td>\n",
       "      <td>0</td>\n",
       "      <td>0</td>\n",
       "      <td>...</td>\n",
       "      <td>0</td>\n",
       "      <td>0</td>\n",
       "      <td>0</td>\n",
       "      <td>0</td>\n",
       "      <td>0</td>\n",
       "      <td>0</td>\n",
       "      <td>0</td>\n",
       "      <td>0</td>\n",
       "      <td>0</td>\n",
       "      <td>6</td>\n",
       "    </tr>\n",
       "    <tr>\n",
       "      <th>10</th>\n",
       "      <td>8</td>\n",
       "      <td>0</td>\n",
       "      <td>2</td>\n",
       "      <td>0</td>\n",
       "      <td>0</td>\n",
       "      <td>0</td>\n",
       "      <td>0</td>\n",
       "      <td>0</td>\n",
       "      <td>0</td>\n",
       "      <td>0</td>\n",
       "      <td>...</td>\n",
       "      <td>0</td>\n",
       "      <td>0</td>\n",
       "      <td>0</td>\n",
       "      <td>0</td>\n",
       "      <td>0</td>\n",
       "      <td>0</td>\n",
       "      <td>0</td>\n",
       "      <td>0</td>\n",
       "      <td>0</td>\n",
       "      <td>12</td>\n",
       "    </tr>\n",
       "    <tr>\n",
       "      <th>11</th>\n",
       "      <td>0</td>\n",
       "      <td>0</td>\n",
       "      <td>1</td>\n",
       "      <td>1</td>\n",
       "      <td>0</td>\n",
       "      <td>0</td>\n",
       "      <td>0</td>\n",
       "      <td>0</td>\n",
       "      <td>0</td>\n",
       "      <td>0</td>\n",
       "      <td>...</td>\n",
       "      <td>0</td>\n",
       "      <td>0</td>\n",
       "      <td>0</td>\n",
       "      <td>0</td>\n",
       "      <td>0</td>\n",
       "      <td>0</td>\n",
       "      <td>0</td>\n",
       "      <td>0</td>\n",
       "      <td>0</td>\n",
       "      <td>6</td>\n",
       "    </tr>\n",
       "    <tr>\n",
       "      <th>12</th>\n",
       "      <td>4</td>\n",
       "      <td>0</td>\n",
       "      <td>2</td>\n",
       "      <td>0</td>\n",
       "      <td>0</td>\n",
       "      <td>0</td>\n",
       "      <td>0</td>\n",
       "      <td>0</td>\n",
       "      <td>0</td>\n",
       "      <td>0</td>\n",
       "      <td>...</td>\n",
       "      <td>0</td>\n",
       "      <td>0</td>\n",
       "      <td>0</td>\n",
       "      <td>0</td>\n",
       "      <td>0</td>\n",
       "      <td>0</td>\n",
       "      <td>0</td>\n",
       "      <td>0</td>\n",
       "      <td>0</td>\n",
       "      <td>8</td>\n",
       "    </tr>\n",
       "    <tr>\n",
       "      <th>...</th>\n",
       "      <td>...</td>\n",
       "      <td>...</td>\n",
       "      <td>...</td>\n",
       "      <td>...</td>\n",
       "      <td>...</td>\n",
       "      <td>...</td>\n",
       "      <td>...</td>\n",
       "      <td>...</td>\n",
       "      <td>...</td>\n",
       "      <td>...</td>\n",
       "      <td>...</td>\n",
       "      <td>...</td>\n",
       "      <td>...</td>\n",
       "      <td>...</td>\n",
       "      <td>...</td>\n",
       "      <td>...</td>\n",
       "      <td>...</td>\n",
       "      <td>...</td>\n",
       "      <td>...</td>\n",
       "      <td>...</td>\n",
       "      <td>...</td>\n",
       "    </tr>\n",
       "    <tr>\n",
       "      <th>11000</th>\n",
       "      <td>0</td>\n",
       "      <td>0</td>\n",
       "      <td>0</td>\n",
       "      <td>0</td>\n",
       "      <td>0</td>\n",
       "      <td>0</td>\n",
       "      <td>0</td>\n",
       "      <td>0</td>\n",
       "      <td>0</td>\n",
       "      <td>0</td>\n",
       "      <td>...</td>\n",
       "      <td>0</td>\n",
       "      <td>0</td>\n",
       "      <td>0</td>\n",
       "      <td>0</td>\n",
       "      <td>0</td>\n",
       "      <td>0</td>\n",
       "      <td>0</td>\n",
       "      <td>0</td>\n",
       "      <td>0</td>\n",
       "      <td>1</td>\n",
       "    </tr>\n",
       "    <tr>\n",
       "      <th>57731</th>\n",
       "      <td>0</td>\n",
       "      <td>0</td>\n",
       "      <td>0</td>\n",
       "      <td>0</td>\n",
       "      <td>0</td>\n",
       "      <td>0</td>\n",
       "      <td>0</td>\n",
       "      <td>0</td>\n",
       "      <td>0</td>\n",
       "      <td>0</td>\n",
       "      <td>...</td>\n",
       "      <td>0</td>\n",
       "      <td>0</td>\n",
       "      <td>0</td>\n",
       "      <td>0</td>\n",
       "      <td>0</td>\n",
       "      <td>0</td>\n",
       "      <td>0</td>\n",
       "      <td>1</td>\n",
       "      <td>0</td>\n",
       "      <td>1</td>\n",
       "    </tr>\n",
       "    <tr>\n",
       "      <th>84999</th>\n",
       "      <td>1</td>\n",
       "      <td>0</td>\n",
       "      <td>0</td>\n",
       "      <td>0</td>\n",
       "      <td>0</td>\n",
       "      <td>0</td>\n",
       "      <td>0</td>\n",
       "      <td>0</td>\n",
       "      <td>0</td>\n",
       "      <td>0</td>\n",
       "      <td>...</td>\n",
       "      <td>0</td>\n",
       "      <td>0</td>\n",
       "      <td>0</td>\n",
       "      <td>0</td>\n",
       "      <td>0</td>\n",
       "      <td>0</td>\n",
       "      <td>0</td>\n",
       "      <td>0</td>\n",
       "      <td>0</td>\n",
       "      <td>1</td>\n",
       "    </tr>\n",
       "    <tr>\n",
       "      <th>90000</th>\n",
       "      <td>1</td>\n",
       "      <td>0</td>\n",
       "      <td>0</td>\n",
       "      <td>0</td>\n",
       "      <td>0</td>\n",
       "      <td>0</td>\n",
       "      <td>0</td>\n",
       "      <td>0</td>\n",
       "      <td>0</td>\n",
       "      <td>0</td>\n",
       "      <td>...</td>\n",
       "      <td>0</td>\n",
       "      <td>0</td>\n",
       "      <td>0</td>\n",
       "      <td>0</td>\n",
       "      <td>0</td>\n",
       "      <td>0</td>\n",
       "      <td>0</td>\n",
       "      <td>0</td>\n",
       "      <td>0</td>\n",
       "      <td>1</td>\n",
       "    </tr>\n",
       "    <tr>\n",
       "      <th>All</th>\n",
       "      <td>5280</td>\n",
       "      <td>2421</td>\n",
       "      <td>2427</td>\n",
       "      <td>615</td>\n",
       "      <td>323</td>\n",
       "      <td>99</td>\n",
       "      <td>160</td>\n",
       "      <td>1</td>\n",
       "      <td>5</td>\n",
       "      <td>30</td>\n",
       "      <td>...</td>\n",
       "      <td>6</td>\n",
       "      <td>1</td>\n",
       "      <td>5</td>\n",
       "      <td>1</td>\n",
       "      <td>1</td>\n",
       "      <td>2</td>\n",
       "      <td>5</td>\n",
       "      <td>2</td>\n",
       "      <td>1</td>\n",
       "      <td>18086</td>\n",
       "    </tr>\n",
       "  </tbody>\n",
       "</table>\n",
       "<p>699 rows × 87 columns</p>\n",
       "</div>"
      ],
      "text/plain": [
       "minimum_nights     1     2     3    4    5   6    7  8  9  10  ...  360  364  \\\n",
       "price                                                          ...             \n",
       "8                  0     0     0    0    0   0    0  0  0   0  ...    0    0   \n",
       "9                  5     0     0    0    0   0    0  0  0   0  ...    0    0   \n",
       "10                 8     0     2    0    0   0    0  0  0   0  ...    0    0   \n",
       "11                 0     0     1    1    0   0    0  0  0   0  ...    0    0   \n",
       "12                 4     0     2    0    0   0    0  0  0   0  ...    0    0   \n",
       "...              ...   ...   ...  ...  ...  ..  ... .. ..  ..  ...  ...  ...   \n",
       "11000              0     0     0    0    0   0    0  0  0   0  ...    0    0   \n",
       "57731              0     0     0    0    0   0    0  0  0   0  ...    0    0   \n",
       "84999              1     0     0    0    0   0    0  0  0   0  ...    0    0   \n",
       "90000              1     0     0    0    0   0    0  0  0   0  ...    0    0   \n",
       "All             5280  2421  2427  615  323  99  160  1  5  30  ...    6    1   \n",
       "\n",
       "minimum_nights  365  500  865  900  1000  1124  1125    All  \n",
       "price                                                        \n",
       "8                 0    0    0    0     0     0     0      1  \n",
       "9                 0    0    0    0     0     0     0      6  \n",
       "10                0    0    0    0     0     0     0     12  \n",
       "11                0    0    0    0     0     0     0      6  \n",
       "12                0    0    0    0     0     0     0      8  \n",
       "...             ...  ...  ...  ...   ...   ...   ...    ...  \n",
       "11000             0    0    0    0     0     0     0      1  \n",
       "57731             0    0    0    0     0     1     0      1  \n",
       "84999             0    0    0    0     0     0     0      1  \n",
       "90000             0    0    0    0     0     0     0      1  \n",
       "All               5    1    1    2     5     2     1  18086  \n",
       "\n",
       "[699 rows x 87 columns]"
      ]
     },
     "execution_count": 25,
     "metadata": {},
     "output_type": "execute_result"
    }
   ],
   "source": [
    "pd.crosstab(df['price'], df['minimum_nights'] , margins=True) "
   ]
  },
  {
   "cell_type": "markdown",
   "id": "ae103f37",
   "metadata": {},
   "source": [
    "- With an increase in price, the number of nights starts to decrease"
   ]
  },
  {
   "cell_type": "code",
   "execution_count": null,
   "id": "d7250061",
   "metadata": {},
   "outputs": [],
   "source": []
  },
  {
   "cell_type": "code",
   "execution_count": null,
   "id": "b0b93209",
   "metadata": {},
   "outputs": [],
   "source": []
  },
  {
   "cell_type": "code",
   "execution_count": 73,
   "id": "074dcf98",
   "metadata": {},
   "outputs": [
    {
     "data": {
      "text/plain": [
       "Index(['id', 'host_id', 'latitude', 'longitude', 'price', 'minimum_nights',\n",
       "       'number_of_reviews', 'reviews_per_month',\n",
       "       'calculated_host_listings_count', 'availability_365',\n",
       "       'number_of_reviews_ltm'],\n",
       "      dtype='object')"
      ]
     },
     "execution_count": 73,
     "metadata": {},
     "output_type": "execute_result"
    }
   ],
   "source": [
    "df.columns"
   ]
  },
  {
   "cell_type": "code",
   "execution_count": 26,
   "id": "6bf98bb9",
   "metadata": {},
   "outputs": [
    {
     "data": {
      "text/plain": [
       "<matplotlib.collections.PathCollection at 0x2750c99e730>"
      ]
     },
     "execution_count": 26,
     "metadata": {},
     "output_type": "execute_result"
    },
    {
     "data": {
      "image/png": "[encoded data removed]",
      "text/plain": [
       "<Figure size 432x288 with 1 Axes>"
      ]
     },
     "metadata": {
      "needs_background": "light"
     },
     "output_type": "display_data"
    }
   ],
   "source": [
    "# Create a scatter plot between 'price' and 'number_of_reviews' \n",
    "plt.scatter(df['price'] , df['minimum_nights'])"
   ]
  },
  {
   "cell_type": "markdown",
   "id": "0b0755ca",
   "metadata": {},
   "source": [
    "- Indeed, the nights are most prevalent in the lower price ranges."
   ]
  },
  {
   "cell_type": "code",
   "execution_count": 27,
   "id": "c4e6d4f2",
   "metadata": {},
   "outputs": [
    {
     "data": {
      "text/plain": [
       "<seaborn.axisgrid.JointGrid at 0x2750c90f4f0>"
      ]
     },
     "execution_count": 27,
     "metadata": {},
     "output_type": "execute_result"
    },
    {
     "data": {
      "image/png": "[encoded data removed]",
      "text/plain": [
       "<Figure size 432x432 with 3 Axes>"
      ]
     },
     "metadata": {
      "needs_background": "light"
     },
     "output_type": "display_data"
    }
   ],
   "source": [
    "# Create a joint scatter plot with marginal distributions \n",
    "sns.jointplot(x='price' , y = 'minimum_nights' , data = df , kind = 'scatter')"
   ]
  },
  {
   "cell_type": "code",
   "execution_count": 28,
   "id": "43f398de",
   "metadata": {},
   "outputs": [],
   "source": [
    "features = ['minimum_nights' , 'number_of_reviews' , 'number_of_reviews_ltm' , 'price']"
   ]
  },
  {
   "cell_type": "code",
   "execution_count": 29,
   "id": "590d0176",
   "metadata": {},
   "outputs": [
    {
     "data": {
      "text/plain": [
       "array([[<AxesSubplot:title={'center':'minimum_nights'}>,\n",
       "        <AxesSubplot:title={'center':'number_of_reviews'}>],\n",
       "       [<AxesSubplot:title={'center':'number_of_reviews_ltm'}>,\n",
       "        <AxesSubplot:title={'center':'price'}>]], dtype=object)"
      ]
     },
     "execution_count": 29,
     "metadata": {},
     "output_type": "execute_result"
    },
    {
     "data": {
      "image/png": "[encoded data removed]",
      "text/plain": [
       "<Figure size 720x432 with 4 Axes>"
      ]
     },
     "metadata": {
      "needs_background": "light"
     },
     "output_type": "display_data"
    }
   ],
   "source": [
    "df[features].hist(figsize=(10,6))"
   ]
  },
  {
   "cell_type": "markdown",
   "id": "b1bfc09f",
   "metadata": {},
   "source": [
    "- The values are greatly affected by an increase in price."
   ]
  },
  {
   "cell_type": "code",
   "execution_count": 30,
   "id": "ba8acdf1",
   "metadata": {},
   "outputs": [
    {
     "data": {
      "text/plain": [
       "array([[<AxesSubplot:ylabel='Density'>, <AxesSubplot:ylabel='Density'>],\n",
       "       [<AxesSubplot:ylabel='Density'>, <AxesSubplot:ylabel='Density'>]],\n",
       "      dtype=object)"
      ]
     },
     "execution_count": 30,
     "metadata": {},
     "output_type": "execute_result"
    },
    {
     "data": {
      "image/png": "[encoded data removed]",
      "text/plain": [
       "<Figure size 432x288 with 4 Axes>"
      ]
     },
     "metadata": {
      "needs_background": "light"
     },
     "output_type": "display_data"
    }
   ],
   "source": [
    "# Create density plots for selected features in subplots \n",
    "df[features].plot(kind = 'density' , subplots = True , layout = (2,2) , sharex = False)"
   ]
  },
  {
   "cell_type": "code",
   "execution_count": 31,
   "id": "9ec614d4",
   "metadata": {},
   "outputs": [
    {
     "name": "stderr",
     "output_type": "stream",
     "text": [
      "D:\\anaconda334\\lib\\site-packages\\seaborn\\distributions.py:2619: FutureWarning: `distplot` is a deprecated function and will be removed in a future version. Please adapt your code to use either `displot` (a figure-level function with similar flexibility) or `histplot` (an axes-level function for histograms).\n",
      "  warnings.warn(msg, FutureWarning)\n"
     ]
    },
    {
     "data": {
      "text/plain": [
       "<AxesSubplot:xlabel='minimum_nights', ylabel='Density'>"
      ]
     },
     "execution_count": 31,
     "metadata": {},
     "output_type": "execute_result"
    },
    {
     "data": {
      "image/png": "[encoded data removed]",
      "text/plain": [
       "<Figure size 432x288 with 1 Axes>"
      ]
     },
     "metadata": {
      "needs_background": "light"
     },
     "output_type": "display_data"
    }
   ],
   "source": [
    "# Create a distribution plot for the 'number_of_reviews' column \n",
    "sns.distplot(df['minimum_nights'])"
   ]
  },
  {
   "cell_type": "code",
   "execution_count": 32,
   "id": "f481bda3",
   "metadata": {},
   "outputs": [
    {
     "data": {
      "text/plain": [
       "<matplotlib.collections.PathCollection at 0x27513d65940>"
      ]
     },
     "execution_count": 32,
     "metadata": {},
     "output_type": "execute_result"
    },
    {
     "data": {
      "image/png": "[encoded data removed]",
      "text/plain": [
       "<Figure size 864x720 with 1 Axes>"
      ]
     },
     "metadata": {
      "needs_background": "light"
     },
     "output_type": "display_data"
    }
   ],
   "source": [
    "plt.figure(figsize=(12,10))\n",
    "plt.scatter(df['minimum_nights'] , df['price'])"
   ]
  },
  {
   "cell_type": "markdown",
   "id": "57cd593c",
   "metadata": {},
   "source": [
    "# dimensionality reduction"
   ]
  },
  {
   "cell_type": "code",
   "execution_count": 33,
   "id": "2d1f2d46",
   "metadata": {},
   "outputs": [],
   "source": [
    "from sklearn.manifold import TSNE\n",
    "from sklearn.preprocessing import StandardScaler"
   ]
  },
  {
   "cell_type": "code",
   "execution_count": 34,
   "id": "b7a2da68",
   "metadata": {},
   "outputs": [],
   "source": [
    "x = df.drop('price' , axis = 1)"
   ]
  },
  {
   "cell_type": "code",
   "execution_count": 35,
   "id": "4a365c0c",
   "metadata": {},
   "outputs": [
    {
     "data": {
      "text/html": [
       "<div>\n",
       "<style scoped>\n",
       "    .dataframe tbody tr th:only-of-type {\n",
       "        vertical-align: middle;\n",
       "    }\n",
       "\n",
       "    .dataframe tbody tr th {\n",
       "        vertical-align: top;\n",
       "    }\n",
       "\n",
       "    .dataframe thead th {\n",
       "        text-align: right;\n",
       "    }\n",
       "</style>\n",
       "<table border=\"1\" class=\"dataframe\">\n",
       "  <thead>\n",
       "    <tr style=\"text-align: right;\">\n",
       "      <th></th>\n",
       "      <th>id</th>\n",
       "      <th>host_id</th>\n",
       "      <th>latitude</th>\n",
       "      <th>longitude</th>\n",
       "      <th>minimum_nights</th>\n",
       "      <th>number_of_reviews</th>\n",
       "      <th>reviews_per_month</th>\n",
       "      <th>calculated_host_listings_count</th>\n",
       "      <th>availability_365</th>\n",
       "      <th>number_of_reviews_ltm</th>\n",
       "    </tr>\n",
       "  </thead>\n",
       "  <tbody>\n",
       "    <tr>\n",
       "      <th>0</th>\n",
       "      <td>18674</td>\n",
       "      <td>71615</td>\n",
       "      <td>41.405560</td>\n",
       "      <td>2.172620</td>\n",
       "      <td>1</td>\n",
       "      <td>38</td>\n",
       "      <td>0.30000</td>\n",
       "      <td>30</td>\n",
       "      <td>34</td>\n",
       "      <td>8</td>\n",
       "    </tr>\n",
       "    <tr>\n",
       "      <th>1</th>\n",
       "      <td>23197</td>\n",
       "      <td>90417</td>\n",
       "      <td>41.412432</td>\n",
       "      <td>2.219750</td>\n",
       "      <td>3</td>\n",
       "      <td>73</td>\n",
       "      <td>0.48000</td>\n",
       "      <td>2</td>\n",
       "      <td>150</td>\n",
       "      <td>11</td>\n",
       "    </tr>\n",
       "    <tr>\n",
       "      <th>2</th>\n",
       "      <td>32711</td>\n",
       "      <td>135703</td>\n",
       "      <td>41.405660</td>\n",
       "      <td>2.170150</td>\n",
       "      <td>21</td>\n",
       "      <td>95</td>\n",
       "      <td>0.64000</td>\n",
       "      <td>3</td>\n",
       "      <td>310</td>\n",
       "      <td>21</td>\n",
       "    </tr>\n",
       "    <tr>\n",
       "      <th>3</th>\n",
       "      <td>171646</td>\n",
       "      <td>400154</td>\n",
       "      <td>41.406710</td>\n",
       "      <td>2.185920</td>\n",
       "      <td>3</td>\n",
       "      <td>81</td>\n",
       "      <td>0.65000</td>\n",
       "      <td>9</td>\n",
       "      <td>58</td>\n",
       "      <td>22</td>\n",
       "    </tr>\n",
       "    <tr>\n",
       "      <th>4</th>\n",
       "      <td>171816</td>\n",
       "      <td>400154</td>\n",
       "      <td>41.406810</td>\n",
       "      <td>2.185530</td>\n",
       "      <td>3</td>\n",
       "      <td>49</td>\n",
       "      <td>0.39000</td>\n",
       "      <td>9</td>\n",
       "      <td>67</td>\n",
       "      <td>27</td>\n",
       "    </tr>\n",
       "    <tr>\n",
       "      <th>...</th>\n",
       "      <td>...</td>\n",
       "      <td>...</td>\n",
       "      <td>...</td>\n",
       "      <td>...</td>\n",
       "      <td>...</td>\n",
       "      <td>...</td>\n",
       "      <td>...</td>\n",
       "      <td>...</td>\n",
       "      <td>...</td>\n",
       "      <td>...</td>\n",
       "    </tr>\n",
       "    <tr>\n",
       "      <th>18081</th>\n",
       "      <td>972414398498867957</td>\n",
       "      <td>150574145</td>\n",
       "      <td>41.429103</td>\n",
       "      <td>2.170701</td>\n",
       "      <td>5</td>\n",
       "      <td>0</td>\n",
       "      <td>1.43602</td>\n",
       "      <td>6</td>\n",
       "      <td>180</td>\n",
       "      <td>0</td>\n",
       "    </tr>\n",
       "    <tr>\n",
       "      <th>18082</th>\n",
       "      <td>972517151783308573</td>\n",
       "      <td>490562593</td>\n",
       "      <td>41.401627</td>\n",
       "      <td>2.154242</td>\n",
       "      <td>1</td>\n",
       "      <td>0</td>\n",
       "      <td>1.43602</td>\n",
       "      <td>7</td>\n",
       "      <td>270</td>\n",
       "      <td>0</td>\n",
       "    </tr>\n",
       "    <tr>\n",
       "      <th>18083</th>\n",
       "      <td>972525401820905576</td>\n",
       "      <td>490562593</td>\n",
       "      <td>41.401446</td>\n",
       "      <td>2.155472</td>\n",
       "      <td>1</td>\n",
       "      <td>0</td>\n",
       "      <td>1.43602</td>\n",
       "      <td>7</td>\n",
       "      <td>270</td>\n",
       "      <td>0</td>\n",
       "    </tr>\n",
       "    <tr>\n",
       "      <th>18084</th>\n",
       "      <td>972527438522389761</td>\n",
       "      <td>490562593</td>\n",
       "      <td>41.399756</td>\n",
       "      <td>2.153623</td>\n",
       "      <td>1</td>\n",
       "      <td>0</td>\n",
       "      <td>1.43602</td>\n",
       "      <td>7</td>\n",
       "      <td>270</td>\n",
       "      <td>0</td>\n",
       "    </tr>\n",
       "    <tr>\n",
       "      <th>18085</th>\n",
       "      <td>972529324055119972</td>\n",
       "      <td>490562593</td>\n",
       "      <td>41.400360</td>\n",
       "      <td>2.155542</td>\n",
       "      <td>1</td>\n",
       "      <td>0</td>\n",
       "      <td>1.43602</td>\n",
       "      <td>7</td>\n",
       "      <td>269</td>\n",
       "      <td>0</td>\n",
       "    </tr>\n",
       "  </tbody>\n",
       "</table>\n",
       "<p>18086 rows × 10 columns</p>\n",
       "</div>"
      ],
      "text/plain": [
       "                       id    host_id   latitude  longitude  minimum_nights  \\\n",
       "0                   18674      71615  41.405560   2.172620               1   \n",
       "1                   23197      90417  41.412432   2.219750               3   \n",
       "2                   32711     135703  41.405660   2.170150              21   \n",
       "3                  171646     400154  41.406710   2.185920               3   \n",
       "4                  171816     400154  41.406810   2.185530               3   \n",
       "...                   ...        ...        ...        ...             ...   \n",
       "18081  972414398498867957  150574145  41.429103   2.170701               5   \n",
       "18082  972517151783308573  490562593  41.401627   2.154242               1   \n",
       "18083  972525401820905576  490562593  41.401446   2.155472               1   \n",
       "18084  972527438522389761  490562593  41.399756   2.153623               1   \n",
       "18085  972529324055119972  490562593  41.400360   2.155542               1   \n",
       "\n",
       "       number_of_reviews  reviews_per_month  calculated_host_listings_count  \\\n",
       "0                     38            0.30000                              30   \n",
       "1                     73            0.48000                               2   \n",
       "2                     95            0.64000                               3   \n",
       "3                     81            0.65000                               9   \n",
       "4                     49            0.39000                               9   \n",
       "...                  ...                ...                             ...   \n",
       "18081                  0            1.43602                               6   \n",
       "18082                  0            1.43602                               7   \n",
       "18083                  0            1.43602                               7   \n",
       "18084                  0            1.43602                               7   \n",
       "18085                  0            1.43602                               7   \n",
       "\n",
       "       availability_365  number_of_reviews_ltm  \n",
       "0                    34                      8  \n",
       "1                   150                     11  \n",
       "2                   310                     21  \n",
       "3                    58                     22  \n",
       "4                    67                     27  \n",
       "...                 ...                    ...  \n",
       "18081               180                      0  \n",
       "18082               270                      0  \n",
       "18083               270                      0  \n",
       "18084               270                      0  \n",
       "18085               269                      0  \n",
       "\n",
       "[18086 rows x 10 columns]"
      ]
     },
     "execution_count": 35,
     "metadata": {},
     "output_type": "execute_result"
    }
   ],
   "source": [
    "x"
   ]
  },
  {
   "cell_type": "code",
   "execution_count": 36,
   "id": "3850dd78",
   "metadata": {},
   "outputs": [],
   "source": [
    "x_scl = StandardScaler().fit_transform(x)"
   ]
  },
  {
   "cell_type": "code",
   "execution_count": 37,
   "id": "df0f3ace",
   "metadata": {},
   "outputs": [],
   "source": [
    "tsne = TSNE()\n",
    "x_red = tsne.fit_transform(x_scl)"
   ]
  },
  {
   "cell_type": "code",
   "execution_count": 38,
   "id": "0913083a",
   "metadata": {},
   "outputs": [
    {
     "data": {
      "text/plain": [
       "array([[ 51.450035 ,  15.289954 ],\n",
       "       [ 30.03572  ,  11.045373 ],\n",
       "       [ -0.9173166,  35.007168 ],\n",
       "       ...,\n",
       "       [-79.53658  ,   8.466789 ],\n",
       "       [-79.593796 ,   8.468502 ],\n",
       "       [-79.52968  ,   8.512834 ]], dtype=float32)"
      ]
     },
     "execution_count": 38,
     "metadata": {},
     "output_type": "execute_result"
    }
   ],
   "source": [
    "x_red"
   ]
  },
  {
   "cell_type": "code",
   "execution_count": 39,
   "id": "273eee21",
   "metadata": {},
   "outputs": [
    {
     "data": {
      "text/plain": [
       "(18086, 2)"
      ]
     },
     "execution_count": 39,
     "metadata": {},
     "output_type": "execute_result"
    }
   ],
   "source": [
    "x_red.shape"
   ]
  },
  {
   "cell_type": "code",
   "execution_count": 41,
   "id": "4887cc80",
   "metadata": {},
   "outputs": [
    {
     "data": {
      "text/plain": [
       "<matplotlib.collections.PathCollection at 0x275158a74c0>"
      ]
     },
     "execution_count": 41,
     "metadata": {},
     "output_type": "execute_result"
    },
    {
     "data": {
      "image/png": "[encoded data removed]",
      "text/plain": [
       "<Figure size 432x288 with 1 Axes>"
      ]
     },
     "metadata": {
      "needs_background": "light"
     },
     "output_type": "display_data"
    }
   ],
   "source": [
    "plt.scatter(x_red[:,0] , x_red[:,1] ,c = df['price'],  alpha = 0.5)"
   ]
  },
  {
   "cell_type": "code",
   "execution_count": null,
   "id": "7ea045ac",
   "metadata": {},
   "outputs": [],
   "source": []
  }
 ],
 "metadata": {
  "kernelspec": {
   "display_name": "Python 3 (ipykernel)",
   "language": "python",
   "name": "python3"
  },
  "language_info": {
   "codemirror_mode": {
    "name": "ipython",
    "version": 3
   },
   "file_extension": ".py",
   "mimetype": "text/x-python",
   "name": "python",
   "nbconvert_exporter": "python",
   "pygments_lexer": "ipython3",
   "version": "3.9.7"
  }
 },
 "nbformat": 4,
 "nbformat_minor": 5
}
